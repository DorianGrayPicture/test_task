{
 "cells": [
  {
   "cell_type": "markdown",
   "id": "145b80cb-79bb-48da-bb40-2397fd7f551c",
   "metadata": {},
   "source": [
    "# Тестовое задание."
   ]
  },
  {
   "cell_type": "markdown",
   "id": "455ce850-44ed-4b71-8385-18bd299f57dc",
   "metadata": {},
   "source": [
    "## 1. Вопросы"
   ]
  },
  {
   "cell_type": "markdown",
   "id": "95fb6b98-4dec-4c7d-8c00-1cbabaac91b3",
   "metadata": {},
   "source": [
    "### 1) Как хорошо Вы владеете Python? Оцените свой уровень по шкале от 0 до 10, где 0 - совсем не знаю, 10 - владею в совершенстве.\r"
   ]
  },
  {
   "cell_type": "markdown",
   "id": "4426645e-5164-4cf1-9fa6-c612e77e3188",
   "metadata": {},
   "source": [
    "Ответ: 7\n",
    "\n",
    "Владею Python на уровне выше среднего, так как достаточно его знаю для использования продвинутых инструментов, которые\n",
    "созданы на основе этого языка. Например: Pandas, NumPy, Pydantic, FastAPI, SQLAlchemy. Также помимо учебного опыта, полученного в ВУЗе, применял Python на практике во время прохождения стажировки в компании Россети."
   ]
  },
  {
   "cell_type": "markdown",
   "id": "64a68629-0b78-413f-a0b7-c5dc37bcd0e0",
   "metadata": {},
   "source": [
    "### 2) Насколько хорошо Вы знакомы с Google Sheets? Оцените свой уровень по шкале от 0 до 10, где 0 - совсем не знаю, 10 - владею в совершенстве. Объясните, почему Вы выбрали такой балл..\r"
   ]
  },
  {
   "cell_type": "markdown",
   "id": "ae6cd11c-65d7-4e7f-b345-deb5f30dbdc7",
   "metadata": {},
   "source": [
    "Ответ: 6\n",
    "\n",
    "Сам по-себе инструмент не сложный. Очень похож на Excel. Однако использую относительно редко: для создания датасетов в BI-системе (Yandex DataLens) и для учебных проектов в ВУЗе."
   ]
  },
  {
   "cell_type": "markdown",
   "id": "8704ea7d-be59-44b8-9304-f5f32032b565",
   "metadata": {},
   "source": [
    "## 2. Задачи на логику"
   ]
  },
  {
   "cell_type": "markdown",
   "id": "4cb96d54-1873-4fcc-9046-ae1dc7740bb0",
   "metadata": {},
   "source": [
    "### 1) Рекламная кампания стартовала вчера с дневным бюджетом 40 $. Половина бюджета была израсходована к полудню, а 80% оставшегося бюджета было потрачено между полуднем и временем закрытия. Сколько долларов не было потрачено?"
   ]
  },
  {
   "cell_type": "markdown",
   "id": "460e035b-4f0a-4d1c-9e15-55c2d144c551",
   "metadata": {},
   "source": [
    "**Решение:** \n",
    "По условию задачи бюджет рекламной кампании за день был сначала израсходован на половину, а затем от оставшейся части потратили 80%. Выразим это в числах:"
   ]
  },
  {
   "cell_type": "markdown",
   "id": "43577baa-14b2-4c82-93f2-edab92c5be0d",
   "metadata": {},
   "source": [
    "$$\n",
    "40 \\times \\frac{1}{2} \\times \\frac{1}{5} = 4\n",
    "$$"
   ]
  },
  {
   "cell_type": "markdown",
   "id": "6ec2265c-8471-4ad6-8421-1334c992e53e",
   "metadata": {},
   "source": [
    "**Ответ:** Не было потрачено 4 доллара "
   ]
  },
  {
   "cell_type": "markdown",
   "id": "7c6fb2c6-cd6b-45ea-a170-cadf93a35c39",
   "metadata": {},
   "source": [
    "### 2) 5 идентичных рекламных кампаний работали 24 дня по 6 часов в день, потрачено было 120 долларов. Сколько дней они работали бы на 216 долларов, если бы 9 одинаковых кампаний работали бы по 8 часов в день?"
   ]
  },
  {
   "cell_type": "markdown",
   "id": "626d397d-017a-4a1a-bde6-6c734390e72f",
   "metadata": {},
   "source": [
    "**Решение:** По условию 5 одинаковых рекламных кампаний, работая 24 дня по 6 часов в день, стоили 120 долларов. Значит, одна такая рекламная кампания стоит 24 доллара:"
   ]
  },
  {
   "cell_type": "markdown",
   "id": "2e49d5f8-4870-4a11-acde-bfd43b8d8a37",
   "metadata": {},
   "source": [
    "$$\n",
    "\\frac{120}{5} = 24\n",
    "$$"
   ]
  },
  {
   "cell_type": "markdown",
   "id": "cf85f8ca-b26c-4ea4-8766-a8115d4958a0",
   "metadata": {},
   "source": [
    "Переведем время работы кампании в часы, умножив количество дней на часы:"
   ]
  },
  {
   "cell_type": "markdown",
   "id": "ce4dc66b-c58c-4c3e-bb7c-8490f897c28a",
   "metadata": {},
   "source": [
    "$$\n",
    "24 \\times 6 = 144\n",
    "$$"
   ]
  },
  {
   "cell_type": "markdown",
   "id": "a37037d2-4eb4-43ca-8e2d-b0b436899f14",
   "metadata": {},
   "source": [
    "Если 144 часа рекламной кампании стоят 24 доллара, то 1 час кампании стоит 1/6 доллара:"
   ]
  },
  {
   "cell_type": "markdown",
   "id": "70d8f52d-fb26-482a-ae75-893d1e2f94e1",
   "metadata": {},
   "source": [
    "$$\n",
    "\\frac{24}{144} = \\frac{1}{6}\n",
    "$$"
   ]
  },
  {
   "cell_type": "markdown",
   "id": "69257605-ec03-49dd-a14e-5be5f48073b2",
   "metadata": {},
   "source": [
    "Теперь обратимся ко второй части условия. Согласно им, 9 таких же одинаковых кампаний работали по 8 и стоили 216 долларов. Нам неизвестно количество дней. Обозначим их за неизвестную **n**. Далее рассуждаем также, как и до этого: если 9 кампаний стоили 216 долларов, то 1 кампания стоит 24 доллара:"
   ]
  },
  {
   "cell_type": "markdown",
   "id": "98853358-8182-4868-81bd-361eedcc5a92",
   "metadata": {},
   "source": [
    "$$\n",
    "\\frac{216}{9} = 24\n",
    "$$"
   ]
  },
  {
   "cell_type": "markdown",
   "id": "0167dd4d-3bdd-4259-b10a-99d09b9df98b",
   "metadata": {},
   "source": [
    "Переведем время работы кампании в часы, умножив количество дней на часы:"
   ]
  },
  {
   "cell_type": "markdown",
   "id": "1f240859-7ce9-4491-86c0-6326c8b76bae",
   "metadata": {},
   "source": [
    "$$\n",
    "n \\times 8 = 8n\n",
    "$$"
   ]
  },
  {
   "cell_type": "markdown",
   "id": "2ce2c4ed-038c-43a5-87be-8e1ae35f7dcd",
   "metadata": {},
   "source": [
    "И так, кампания работала 8n часов и стоила 24 доллара. Мы знаем, что один час работы кампании стоит 1/6 доллара. Составим уравнение и реши его:"
   ]
  },
  {
   "cell_type": "markdown",
   "id": "c9f9ff17-3d8c-466a-8cf8-4427b279c1a2",
   "metadata": {},
   "source": [
    "$$\n",
    "8n \\times \\frac{1}{6} = 24\n",
    "$$\n",
    "$$\n",
    "n = 18\n",
    "$$"
   ]
  },
  {
   "cell_type": "markdown",
   "id": "439190d5-c874-49b8-962a-05dbd53264c7",
   "metadata": {},
   "source": [
    "**Ответ:** Кампания работала бы 18 дней"
   ]
  },
  {
   "cell_type": "markdown",
   "id": "9ab736cd-7fa4-49f3-bec0-8a767e81b265",
   "metadata": {},
   "source": [
    "### 3) Дизайнеры создали 200 рекламных баннеров для двух рекламных кампаний. 80 из них не использовались ни в кампании №1, ни в кампании №2, 60 использовались только в кампании №1. И для каждого рекламного баннера, который использовался в обеих кампаниях, приходится 3 баннера, которые использовались только в кампании №2. Сколько баннеров было использовано в обеих рекламных кампаниях?"
   ]
  },
  {
   "cell_type": "markdown",
   "id": "d4ea0d72-3742-4e8b-b233-9c5fdaf168d6",
   "metadata": {},
   "source": [
    "**Решение:** Согласно условию, из 200 рекламных баннеров 80 не использовались вообще. Значит, у нас остаются только **120** баннеров."
   ]
  },
  {
   "cell_type": "markdown",
   "id": "161b3188-a2a5-4ab3-b84a-c2b1445cd4e1",
   "metadata": {},
   "source": [
    "Есть три варианта использования каждого баннера:\n",
    "1) Баннер используется только в кампании 1\n",
    "2) Баннер используется только в кампании 2\n",
    "3) Баннер используется в обеих кампаниях"
   ]
  },
  {
   "cell_type": "markdown",
   "id": "d8a6d2a4-12cd-448a-8714-f6ad28d15221",
   "metadata": {},
   "source": [
    "По условию мы знаем, что 60 баннеров из оставшихся 120 использовались только в кампании 1"
   ]
  },
  {
   "cell_type": "markdown",
   "id": "971611f1-261a-4ff3-b6f6-3ed9fe9dd9f3",
   "metadata": {},
   "source": [
    "Значит, у нас остаются 60 баннеров, каждый из которых либо используется в кампании 2, либо в обеих кампаниях сразу.\n",
    "Также по условию мы знаем, что на каждый баннер, использовавшийся в обеих кампаниях, приходится 3 баннера, которые использовали только в кампании 2. "
   ]
  },
  {
   "cell_type": "markdown",
   "id": "f0c2a69f-e178-4f8f-86c2-549161c13ef1",
   "metadata": {},
   "source": [
    "Выразим это условие математически, обозначив за неизвестную **a** количество баннеров, использовавшихся только в кампании 2, а за неизвестную **b** количество баннеров, использовавшихся в обеих кампаниях:"
   ]
  },
  {
   "cell_type": "markdown",
   "id": "729fb37b-32ea-4eaa-83e2-90e9c8956d3a",
   "metadata": {},
   "source": [
    "$$\n",
    "\\begin{cases} a + b = 60 \\\\ \\frac{a}{b} = 3 \\end{cases},\\quad b \\neq 0 \n",
    "$$"
   ]
  },
  {
   "cell_type": "markdown",
   "id": "94e48c11-e853-4a4e-b75f-0dcfe01da695",
   "metadata": {},
   "source": [
    "Получилась система уравнений. Решим ее:"
   ]
  },
  {
   "cell_type": "markdown",
   "id": "0d14106e-7925-45d9-927f-1951293a50cb",
   "metadata": {},
   "source": [
    "$$\n",
    "\\begin{cases} a = 60 - b \\\\ \\frac{a}{b} = 3 \\end{cases}\n",
    "$$"
   ]
  },
  {
   "cell_type": "markdown",
   "id": "505d9930-fee5-4b05-86b9-d67cdae6f5eb",
   "metadata": {},
   "source": [
    "$$\n",
    "\\begin{cases} a = 60 - b \\\\ \\frac{60 - b}{b} = 3 \\end{cases}\n",
    "$$"
   ]
  },
  {
   "cell_type": "markdown",
   "id": "3470ec5a-8f73-4021-8a36-a63a10418523",
   "metadata": {},
   "source": [
    "$$\n",
    "\\begin{cases} a = 60 - b \\\\ 60 - b = 3b \\end{cases}\n",
    "$$"
   ]
  },
  {
   "cell_type": "markdown",
   "id": "bcd9d52a-b9bb-4c4e-b1a3-4457300e2e4f",
   "metadata": {},
   "source": [
    "$$\n",
    "\\begin{cases} a = 60 - b \\\\ b = 15 \\end{cases}\n",
    "$$"
   ]
  },
  {
   "cell_type": "markdown",
   "id": "40bceef2-d527-4a02-989a-1d4d12c0e54b",
   "metadata": {},
   "source": [
    "$$\n",
    "\\begin{cases} a = 45 \\\\ b = 15 \\end{cases}\n",
    "$$"
   ]
  },
  {
   "cell_type": "markdown",
   "id": "87ce0163-e7b6-491f-ac6a-509cbc9354cc",
   "metadata": {},
   "source": [
    "$$\n",
    "(a, b) = (45, 15)\n",
    "$$"
   ]
  },
  {
   "cell_type": "markdown",
   "id": "37bd3498-e8e9-4b0d-9f50-90fae1eba84d",
   "metadata": {},
   "source": [
    "Значит, что количество баннеров, использовавшихся в обеих кампаниях (неизвестная b), равно 15"
   ]
  },
  {
   "cell_type": "markdown",
   "id": "16e278ca-28d1-4342-a65c-189f6194e893",
   "metadata": {},
   "source": [
    "**Ответ:** 15 баннеров"
   ]
  },
  {
   "cell_type": "markdown",
   "id": "3f21ecec-a498-4ce3-bd1b-addeaf00ab60",
   "metadata": {},
   "source": [
    "### 4) Энн использует Instagram, но не Facebook, а Джон использует Youtube и Facebook. Кейт использует Youtube, но не Instagram, а Том использует Facebook, но не Youtube. Если каждый человек использует две из трех социальных сетей, у кого предпочтения совпадают?"
   ]
  },
  {
   "cell_type": "markdown",
   "id": "009d63d5-a510-403a-8338-9c5bd5ff1593",
   "metadata": {},
   "source": [
    "**Решение:** Обозначим соцсети следующим образом:"
   ]
  },
  {
   "cell_type": "markdown",
   "id": "083287b5-128d-4ad6-b63b-13dbebd08f5d",
   "metadata": {},
   "source": [
    "$$\n",
    "Y = YouTube\n",
    "$$\n",
    "$$\n",
    "I = Instagram\n",
    "$$\n",
    "$$\n",
    "F = Facebook\n",
    "$$"
   ]
  },
  {
   "cell_type": "markdown",
   "id": "421f5683-5a19-4aa9-8c56-48872f8b196d",
   "metadata": {},
   "source": [
    "Теперь определим множества используемых соцсетей для каждого из персонажей задачи согласно условию:"
   ]
  },
  {
   "cell_type": "markdown",
   "id": "300bacbb-5bd2-4509-840b-89d6a1504fc3",
   "metadata": {},
   "source": [
    "$$\n",
    "Ann = \\{Y, I \\}\n",
    "$$\n",
    "$$\n",
    "John = \\{Y, F \\}\n",
    "$$\n",
    "$$\n",
    "Kate = \\{Y, F \\}\n",
    "$$\n",
    "$$\n",
    "Tom = \\{F, I \\}\n",
    "$$"
   ]
  },
  {
   "cell_type": "markdown",
   "id": "77504c48-e41b-4d82-add7-aba731736edc",
   "metadata": {},
   "source": [
    "Определив множетсва, можно легко заметить, что предпочтения совпадают у Джона и Кейт"
   ]
  },
  {
   "cell_type": "markdown",
   "id": "a64666bb-17bf-495a-9c77-fcce5066eb3c",
   "metadata": {},
   "source": [
    "**Ответ:** Джон и Кейт"
   ]
  },
  {
   "cell_type": "markdown",
   "id": "0aaf9e2f-394c-43ca-b819-8512d5f1074f",
   "metadata": {},
   "source": [
    "### 5) Средний итоговый балл стажера по 4 модулям составляет 78 баллов. Сколько баллов должен получить стажер за 5-й модуль, чтобы средний балл по всему заданию составил 80?"
   ]
  },
  {
   "cell_type": "markdown",
   "id": "eaf7f8c9-5554-4eff-bd6c-8a36cf848b7d",
   "metadata": {},
   "source": [
    "**Решение:** Обозначим количество баллов, полученных стажером по 4 модулям, за неизвестную **g**, а количество баллов, которые необходимо набрать за 5 модуль, за **x**."
   ]
  },
  {
   "cell_type": "markdown",
   "id": "4ebc3292-979f-47e8-9305-a10c80c4947a",
   "metadata": {},
   "source": [
    "Тогда средний балл стажера по 4 модулям вычисляется следующим образом:"
   ]
  },
  {
   "cell_type": "markdown",
   "id": "98f44b5a-2bf1-43bd-a774-5d87959b0f38",
   "metadata": {},
   "source": [
    "$$\n",
    "\\frac{g}{4} = 78\n",
    "$$"
   ]
  },
  {
   "cell_type": "markdown",
   "id": "a2a856af-aabf-4217-8408-b14d574f8359",
   "metadata": {},
   "source": [
    "А средний балл стажера по 5 модулям так:"
   ]
  },
  {
   "cell_type": "markdown",
   "id": "b2bba1ca-b425-4f41-abd0-89594a39fced",
   "metadata": {},
   "source": [
    "$$\n",
    "\\frac{g + x}{5} = 80\n",
    "$$"
   ]
  },
  {
   "cell_type": "markdown",
   "id": "cdf9ab87-6430-469c-8127-7f74d7d5c5ff",
   "metadata": {},
   "source": [
    "Получается система уравнений:"
   ]
  },
  {
   "cell_type": "markdown",
   "id": "bcc847ee-cacc-4f20-bdbe-586cfa51a2bb",
   "metadata": {},
   "source": [
    "$$\n",
    "\\begin{cases} \\frac{g}{4} = 78 \\\\ \\frac{g + x}{5} = 80 \\end{cases}\n",
    "$$"
   ]
  },
  {
   "cell_type": "markdown",
   "id": "cc6bf593-bc7d-4eeb-8f5c-d286eb98e3f3",
   "metadata": {},
   "source": [
    "Решим ее:"
   ]
  },
  {
   "cell_type": "markdown",
   "id": "4113d1fb-9837-44eb-bd0d-7bdb800dfe4b",
   "metadata": {},
   "source": [
    "$$\n",
    "\\begin{cases} g = 312 \\\\ g + x = 400 \\end{cases}\n",
    "$$"
   ]
  },
  {
   "cell_type": "markdown",
   "id": "3b343451-7c3b-4d19-a36e-e8dbadcfb043",
   "metadata": {},
   "source": [
    "$$\n",
    "\\begin{cases} g = 312 \\\\ x = 88 \\end{cases}\n",
    "$$"
   ]
  },
  {
   "cell_type": "markdown",
   "id": "a60afb83-95ae-4f3e-9c2a-040b10f31a2a",
   "metadata": {},
   "source": [
    "$$\n",
    "(g, x) = (312, 88)\n",
    "$$"
   ]
  },
  {
   "cell_type": "markdown",
   "id": "3cf3a5b7-4726-474c-9cdb-9c5239322122",
   "metadata": {},
   "source": [
    "Значит, количество баллов, которые необходимо набрать в 5 модуле (неизвестная x), равно 88."
   ]
  },
  {
   "cell_type": "markdown",
   "id": "7e10cff9-a843-4592-8609-d5b668eca6fc",
   "metadata": {},
   "source": [
    "**Ответ:** 88 баллов"
   ]
  },
  {
   "cell_type": "markdown",
   "id": "81b99365-afee-4788-9b05-60ae675b48f1",
   "metadata": {},
   "source": [
    "### 6) Заказанные в приложении товары доставляются на автомобиле. Автомобиль проезжает 260 км со средней скоростью 80 км / ч. На обратном пути машина движется со средней скоростью 100 км / ч. Насколько быстрее был обратный путь? Ответ указать в минутах.\r"
   ]
  },
  {
   "cell_type": "markdown",
   "id": "de2153f4-5fd4-4435-983e-2b3aa25162e3",
   "metadata": {},
   "source": [
    "**Решение:** Мы знаем среднюю скорость автомобиля и пройденное расстояние. Вычисим время в пути по формуле:"
   ]
  },
  {
   "cell_type": "markdown",
   "id": "98a1e193-04d0-42bd-b4c2-fa7090e99044",
   "metadata": {},
   "source": [
    "$$\n",
    "t = \\frac{S}{V}\n",
    "$$"
   ]
  },
  {
   "cell_type": "markdown",
   "id": "836d375a-760c-4fea-96c0-769a7cfefe1b",
   "metadata": {},
   "source": [
    "$$\n",
    "t_1 = \\frac{260}{80} = 3.25\n",
    "$$"
   ]
  },
  {
   "cell_type": "markdown",
   "id": "f514f9e9-c0dc-47b3-9b4c-c111f2684161",
   "metadata": {},
   "source": [
    "Мы получили, что автомобиль доставил товары за 3.25 часа. Теперь посчитаем время, затраченное на обратный путь:"
   ]
  },
  {
   "cell_type": "markdown",
   "id": "76c93ce6-8845-415b-83cd-1ea376b49306",
   "metadata": {},
   "source": [
    "$$\n",
    "t_2 = \\frac{260}{100} = 2.6\n",
    "$$"
   ]
  },
  {
   "cell_type": "markdown",
   "id": "747c3ae2-f9f6-432a-83f1-be77136d6f10",
   "metadata": {},
   "source": [
    "Автомобиль потратил на обратный путь 2.6 часа. Посчитаем разницу во времени:"
   ]
  },
  {
   "cell_type": "markdown",
   "id": "dbbfcd76-f834-4eda-9346-54be63323f4f",
   "metadata": {},
   "source": [
    "$$\n",
    "t_1 - t_2 = 3.25 - 2.6 = 0.65\n",
    "$$"
   ]
  },
  {
   "cell_type": "markdown",
   "id": "5899fd9c-2201-470f-8c66-a88f5f8fd3e8",
   "metadata": {},
   "source": [
    "Значит, на обратный путь автомобиль потратил на 0.65 часов меньше. Переведем это значение в минуты:"
   ]
  },
  {
   "cell_type": "markdown",
   "id": "6888650e-11dd-4a6f-8f0b-9851e0fa076b",
   "metadata": {},
   "source": [
    "$$\n",
    "0.65 \\times 60 = 39\n",
    "$$"
   ]
  },
  {
   "cell_type": "markdown",
   "id": "9c597290-3b23-410c-86f1-e817415e2b70",
   "metadata": {},
   "source": [
    "Выходит, что на обратный путь автомобиль потратил на 39 минут меньше"
   ]
  },
  {
   "cell_type": "markdown",
   "id": "77908bd3-7ab4-4e94-9938-5fc4dd93aa6e",
   "metadata": {},
   "source": [
    "**Ответ:** 39 минут"
   ]
  },
  {
   "cell_type": "markdown",
   "id": "060e1de1-054d-4c0f-a3f3-51e95657b6ca",
   "metadata": {},
   "source": [
    "## 3. Техническое задание"
   ]
  },
  {
   "cell_type": "markdown",
   "id": "4e1f2227-ac5a-4763-869a-af1098c1e661",
   "metadata": {},
   "source": [
    "### Прочитаем таблицу с помощью метода read_excel() и посмотрим на данные:"
   ]
  },
  {
   "cell_type": "code",
   "execution_count": 81,
   "id": "e2c5f8b1-eeb6-461f-8a1a-89f6fbf66ab9",
   "metadata": {},
   "outputs": [],
   "source": [
    "import pandas as pd"
   ]
  },
  {
   "cell_type": "code",
   "execution_count": 82,
   "id": "73badab1-f250-42ec-b6d7-0530f5b27dba",
   "metadata": {},
   "outputs": [],
   "source": [
    "data = pd.read_excel(\"data.xlsx\")"
   ]
  },
  {
   "cell_type": "code",
   "execution_count": 83,
   "id": "42fec7e5-1d42-4032-8f7b-be438eeaf72c",
   "metadata": {},
   "outputs": [
    {
     "data": {
      "text/html": [
       "<div>\n",
       "<style scoped>\n",
       "    .dataframe tbody tr th:only-of-type {\n",
       "        vertical-align: middle;\n",
       "    }\n",
       "\n",
       "    .dataframe tbody tr th {\n",
       "        vertical-align: top;\n",
       "    }\n",
       "\n",
       "    .dataframe thead th {\n",
       "        text-align: right;\n",
       "    }\n",
       "</style>\n",
       "<table border=\"1\" class=\"dataframe\">\n",
       "  <thead>\n",
       "    <tr style=\"text-align: right;\">\n",
       "      <th></th>\n",
       "      <th>client_id</th>\n",
       "      <th>sum</th>\n",
       "      <th>status</th>\n",
       "      <th>sale</th>\n",
       "      <th>new/current</th>\n",
       "      <th>Unnamed: 5</th>\n",
       "      <th>document</th>\n",
       "      <th>receiving_date</th>\n",
       "    </tr>\n",
       "  </thead>\n",
       "  <tbody>\n",
       "    <tr>\n",
       "      <th>0</th>\n",
       "      <td>NaN</td>\n",
       "      <td>NaN</td>\n",
       "      <td>Май 2021</td>\n",
       "      <td>NaN</td>\n",
       "      <td>NaN</td>\n",
       "      <td>NaN</td>\n",
       "      <td>NaN</td>\n",
       "      <td>NaN</td>\n",
       "    </tr>\n",
       "    <tr>\n",
       "      <th>1</th>\n",
       "      <td>6.0</td>\n",
       "      <td>11693.7</td>\n",
       "      <td>ВНУТРЕННИЙ</td>\n",
       "      <td>-</td>\n",
       "      <td>-</td>\n",
       "      <td>NaN</td>\n",
       "      <td>-</td>\n",
       "      <td>-</td>\n",
       "    </tr>\n",
       "    <tr>\n",
       "      <th>2</th>\n",
       "      <td>14.0</td>\n",
       "      <td>5452.7</td>\n",
       "      <td>ОПЛАЧЕНО</td>\n",
       "      <td>Петрова</td>\n",
       "      <td>новая</td>\n",
       "      <td>NaN</td>\n",
       "      <td>оригинал</td>\n",
       "      <td>2021-07-26 00:00:00</td>\n",
       "    </tr>\n",
       "    <tr>\n",
       "      <th>3</th>\n",
       "      <td>15.0</td>\n",
       "      <td>13991.7</td>\n",
       "      <td>ОПЛАЧЕНО</td>\n",
       "      <td>Иванов</td>\n",
       "      <td>текущая</td>\n",
       "      <td>NaN</td>\n",
       "      <td>оригинал</td>\n",
       "      <td>2021-06-08 00:00:00</td>\n",
       "    </tr>\n",
       "    <tr>\n",
       "      <th>4</th>\n",
       "      <td>16.0</td>\n",
       "      <td>719.7</td>\n",
       "      <td>ОПЛАЧЕНО</td>\n",
       "      <td>Иванов</td>\n",
       "      <td>текущая</td>\n",
       "      <td>NaN</td>\n",
       "      <td>оригинал</td>\n",
       "      <td>2021-06-08 00:00:00</td>\n",
       "    </tr>\n",
       "    <tr>\n",
       "      <th>...</th>\n",
       "      <td>...</td>\n",
       "      <td>...</td>\n",
       "      <td>...</td>\n",
       "      <td>...</td>\n",
       "      <td>...</td>\n",
       "      <td>...</td>\n",
       "      <td>...</td>\n",
       "      <td>...</td>\n",
       "    </tr>\n",
       "    <tr>\n",
       "      <th>725</th>\n",
       "      <td>285.0</td>\n",
       "      <td>4328.7</td>\n",
       "      <td>ОПЛАЧЕНО</td>\n",
       "      <td>Васильев</td>\n",
       "      <td>текущая</td>\n",
       "      <td>NaN</td>\n",
       "      <td>оригинал</td>\n",
       "      <td>2021-11-15 00:00:00</td>\n",
       "    </tr>\n",
       "    <tr>\n",
       "      <th>726</th>\n",
       "      <td>360.0</td>\n",
       "      <td>3096.2</td>\n",
       "      <td>ОПЛАЧЕНО</td>\n",
       "      <td>Васильев</td>\n",
       "      <td>новая</td>\n",
       "      <td>NaN</td>\n",
       "      <td>НЕТ</td>\n",
       "      <td>NaN</td>\n",
       "    </tr>\n",
       "    <tr>\n",
       "      <th>727</th>\n",
       "      <td>360.0</td>\n",
       "      <td>3096.2</td>\n",
       "      <td>ПРОСРОЧЕНО</td>\n",
       "      <td>Васильев</td>\n",
       "      <td>новая</td>\n",
       "      <td>NaN</td>\n",
       "      <td>НЕТ</td>\n",
       "      <td>NaN</td>\n",
       "    </tr>\n",
       "    <tr>\n",
       "      <th>728</th>\n",
       "      <td>373.0</td>\n",
       "      <td>4403.7</td>\n",
       "      <td>ОПЛАЧЕНО</td>\n",
       "      <td>Михайлов</td>\n",
       "      <td>новая</td>\n",
       "      <td>NaN</td>\n",
       "      <td>оригинал</td>\n",
       "      <td>2021-11-08 00:00:00</td>\n",
       "    </tr>\n",
       "    <tr>\n",
       "      <th>729</th>\n",
       "      <td>286.0</td>\n",
       "      <td>3978.7</td>\n",
       "      <td>ОПЛАЧЕНО</td>\n",
       "      <td>Филимонова</td>\n",
       "      <td>текущая</td>\n",
       "      <td>NaN</td>\n",
       "      <td>оригинал</td>\n",
       "      <td>2021-11-15 00:00:00</td>\n",
       "    </tr>\n",
       "  </tbody>\n",
       "</table>\n",
       "<p>730 rows × 8 columns</p>\n",
       "</div>"
      ],
      "text/plain": [
       "     client_id      sum      status        sale new/current  Unnamed: 5  \\\n",
       "0          NaN      NaN    Май 2021         NaN         NaN         NaN   \n",
       "1          6.0  11693.7  ВНУТРЕННИЙ           -           -         NaN   \n",
       "2         14.0   5452.7    ОПЛАЧЕНО     Петрова       новая         NaN   \n",
       "3         15.0  13991.7    ОПЛАЧЕНО      Иванов     текущая         NaN   \n",
       "4         16.0    719.7    ОПЛАЧЕНО      Иванов     текущая         NaN   \n",
       "..         ...      ...         ...         ...         ...         ...   \n",
       "725      285.0   4328.7    ОПЛАЧЕНО    Васильев     текущая         NaN   \n",
       "726      360.0   3096.2    ОПЛАЧЕНО    Васильев       новая         NaN   \n",
       "727      360.0   3096.2  ПРОСРОЧЕНО    Васильев       новая         NaN   \n",
       "728      373.0   4403.7    ОПЛАЧЕНО    Михайлов       новая         NaN   \n",
       "729      286.0   3978.7    ОПЛАЧЕНО  Филимонова     текущая         NaN   \n",
       "\n",
       "     document       receiving_date  \n",
       "0         NaN                  NaN  \n",
       "1           -                    -  \n",
       "2    оригинал  2021-07-26 00:00:00  \n",
       "3    оригинал  2021-06-08 00:00:00  \n",
       "4    оригинал  2021-06-08 00:00:00  \n",
       "..        ...                  ...  \n",
       "725  оригинал  2021-11-15 00:00:00  \n",
       "726       НЕТ                  NaN  \n",
       "727       НЕТ                  NaN  \n",
       "728  оригинал  2021-11-08 00:00:00  \n",
       "729  оригинал  2021-11-15 00:00:00  \n",
       "\n",
       "[730 rows x 8 columns]"
      ]
     },
     "execution_count": 83,
     "metadata": {},
     "output_type": "execute_result"
    }
   ],
   "source": [
    "data"
   ]
  },
  {
   "cell_type": "markdown",
   "id": "3840c221-c477-4c3a-a631-23c00d2e277d",
   "metadata": {},
   "source": [
    "### Для начала стоит привести данные к более аккуратному виду.\n",
    "#### Удалим пустой столбец:"
   ]
  },
  {
   "cell_type": "code",
   "execution_count": 85,
   "id": "a79a3fa8-fd04-40b1-a707-5365f7e12ec4",
   "metadata": {},
   "outputs": [],
   "source": [
    "data = data.drop(\"Unnamed: 5\", axis=1)"
   ]
  },
  {
   "cell_type": "code",
   "execution_count": 86,
   "id": "835889fc-1fae-4682-a73f-88ca3c7562b5",
   "metadata": {},
   "outputs": [
    {
     "data": {
      "text/html": [
       "<div>\n",
       "<style scoped>\n",
       "    .dataframe tbody tr th:only-of-type {\n",
       "        vertical-align: middle;\n",
       "    }\n",
       "\n",
       "    .dataframe tbody tr th {\n",
       "        vertical-align: top;\n",
       "    }\n",
       "\n",
       "    .dataframe thead th {\n",
       "        text-align: right;\n",
       "    }\n",
       "</style>\n",
       "<table border=\"1\" class=\"dataframe\">\n",
       "  <thead>\n",
       "    <tr style=\"text-align: right;\">\n",
       "      <th></th>\n",
       "      <th>client_id</th>\n",
       "      <th>sum</th>\n",
       "      <th>status</th>\n",
       "      <th>sale</th>\n",
       "      <th>new/current</th>\n",
       "      <th>document</th>\n",
       "      <th>receiving_date</th>\n",
       "    </tr>\n",
       "  </thead>\n",
       "  <tbody>\n",
       "    <tr>\n",
       "      <th>0</th>\n",
       "      <td>NaN</td>\n",
       "      <td>NaN</td>\n",
       "      <td>Май 2021</td>\n",
       "      <td>NaN</td>\n",
       "      <td>NaN</td>\n",
       "      <td>NaN</td>\n",
       "      <td>NaN</td>\n",
       "    </tr>\n",
       "    <tr>\n",
       "      <th>1</th>\n",
       "      <td>6.0</td>\n",
       "      <td>11693.7</td>\n",
       "      <td>ВНУТРЕННИЙ</td>\n",
       "      <td>-</td>\n",
       "      <td>-</td>\n",
       "      <td>-</td>\n",
       "      <td>-</td>\n",
       "    </tr>\n",
       "    <tr>\n",
       "      <th>2</th>\n",
       "      <td>14.0</td>\n",
       "      <td>5452.7</td>\n",
       "      <td>ОПЛАЧЕНО</td>\n",
       "      <td>Петрова</td>\n",
       "      <td>новая</td>\n",
       "      <td>оригинал</td>\n",
       "      <td>2021-07-26 00:00:00</td>\n",
       "    </tr>\n",
       "    <tr>\n",
       "      <th>3</th>\n",
       "      <td>15.0</td>\n",
       "      <td>13991.7</td>\n",
       "      <td>ОПЛАЧЕНО</td>\n",
       "      <td>Иванов</td>\n",
       "      <td>текущая</td>\n",
       "      <td>оригинал</td>\n",
       "      <td>2021-06-08 00:00:00</td>\n",
       "    </tr>\n",
       "    <tr>\n",
       "      <th>4</th>\n",
       "      <td>16.0</td>\n",
       "      <td>719.7</td>\n",
       "      <td>ОПЛАЧЕНО</td>\n",
       "      <td>Иванов</td>\n",
       "      <td>текущая</td>\n",
       "      <td>оригинал</td>\n",
       "      <td>2021-06-08 00:00:00</td>\n",
       "    </tr>\n",
       "  </tbody>\n",
       "</table>\n",
       "</div>"
      ],
      "text/plain": [
       "   client_id      sum      status     sale new/current  document  \\\n",
       "0        NaN      NaN    Май 2021      NaN         NaN       NaN   \n",
       "1        6.0  11693.7  ВНУТРЕННИЙ        -           -         -   \n",
       "2       14.0   5452.7    ОПЛАЧЕНО  Петрова       новая  оригинал   \n",
       "3       15.0  13991.7    ОПЛАЧЕНО   Иванов     текущая  оригинал   \n",
       "4       16.0    719.7    ОПЛАЧЕНО   Иванов     текущая  оригинал   \n",
       "\n",
       "        receiving_date  \n",
       "0                  NaN  \n",
       "1                    -  \n",
       "2  2021-07-26 00:00:00  \n",
       "3  2021-06-08 00:00:00  \n",
       "4  2021-06-08 00:00:00  "
      ]
     },
     "execution_count": 86,
     "metadata": {},
     "output_type": "execute_result"
    }
   ],
   "source": [
    "data.head()"
   ]
  },
  {
   "cell_type": "markdown",
   "id": "c2f8d373-da4a-4847-a9c3-591ba5c18b25",
   "metadata": {},
   "source": [
    "#### Также в таблице есть \"пустые\" пользователи. Удалим их:"
   ]
  },
  {
   "cell_type": "code",
   "execution_count": 88,
   "id": "785ccd4a-e774-4774-af5f-f9a2adbdaa20",
   "metadata": {},
   "outputs": [],
   "source": [
    "data = data[data['client_id'].isna() == False]"
   ]
  },
  {
   "cell_type": "code",
   "execution_count": 184,
   "id": "2a6a46d8-38fa-47db-9f9e-62c2bc7dbf0b",
   "metadata": {},
   "outputs": [
    {
     "data": {
      "text/html": [
       "<div>\n",
       "<style scoped>\n",
       "    .dataframe tbody tr th:only-of-type {\n",
       "        vertical-align: middle;\n",
       "    }\n",
       "\n",
       "    .dataframe tbody tr th {\n",
       "        vertical-align: top;\n",
       "    }\n",
       "\n",
       "    .dataframe thead th {\n",
       "        text-align: right;\n",
       "    }\n",
       "</style>\n",
       "<table border=\"1\" class=\"dataframe\">\n",
       "  <thead>\n",
       "    <tr style=\"text-align: right;\">\n",
       "      <th></th>\n",
       "      <th>client_id</th>\n",
       "      <th>sum</th>\n",
       "      <th>status</th>\n",
       "      <th>sale</th>\n",
       "      <th>new/current</th>\n",
       "      <th>document</th>\n",
       "      <th>receiving_date</th>\n",
       "    </tr>\n",
       "  </thead>\n",
       "  <tbody>\n",
       "    <tr>\n",
       "      <th>1</th>\n",
       "      <td>6.0</td>\n",
       "      <td>11693.7</td>\n",
       "      <td>ВНУТРЕННИЙ</td>\n",
       "      <td>-</td>\n",
       "      <td>-</td>\n",
       "      <td>-</td>\n",
       "      <td>NaT</td>\n",
       "    </tr>\n",
       "    <tr>\n",
       "      <th>2</th>\n",
       "      <td>14.0</td>\n",
       "      <td>5452.7</td>\n",
       "      <td>ОПЛАЧЕНО</td>\n",
       "      <td>Петрова</td>\n",
       "      <td>новая</td>\n",
       "      <td>оригинал</td>\n",
       "      <td>2021-07-26</td>\n",
       "    </tr>\n",
       "    <tr>\n",
       "      <th>3</th>\n",
       "      <td>15.0</td>\n",
       "      <td>13991.7</td>\n",
       "      <td>ОПЛАЧЕНО</td>\n",
       "      <td>Иванов</td>\n",
       "      <td>текущая</td>\n",
       "      <td>оригинал</td>\n",
       "      <td>2021-06-08</td>\n",
       "    </tr>\n",
       "    <tr>\n",
       "      <th>4</th>\n",
       "      <td>16.0</td>\n",
       "      <td>719.7</td>\n",
       "      <td>ОПЛАЧЕНО</td>\n",
       "      <td>Иванов</td>\n",
       "      <td>текущая</td>\n",
       "      <td>оригинал</td>\n",
       "      <td>2021-06-08</td>\n",
       "    </tr>\n",
       "    <tr>\n",
       "      <th>5</th>\n",
       "      <td>18.0</td>\n",
       "      <td>4253.7</td>\n",
       "      <td>ОПЛАЧЕНО</td>\n",
       "      <td>Иванов</td>\n",
       "      <td>текущая</td>\n",
       "      <td>оригинал</td>\n",
       "      <td>2021-07-07</td>\n",
       "    </tr>\n",
       "    <tr>\n",
       "      <th>...</th>\n",
       "      <td>...</td>\n",
       "      <td>...</td>\n",
       "      <td>...</td>\n",
       "      <td>...</td>\n",
       "      <td>...</td>\n",
       "      <td>...</td>\n",
       "      <td>...</td>\n",
       "    </tr>\n",
       "    <tr>\n",
       "      <th>725</th>\n",
       "      <td>285.0</td>\n",
       "      <td>4328.7</td>\n",
       "      <td>ОПЛАЧЕНО</td>\n",
       "      <td>Васильев</td>\n",
       "      <td>текущая</td>\n",
       "      <td>оригинал</td>\n",
       "      <td>2021-11-15</td>\n",
       "    </tr>\n",
       "    <tr>\n",
       "      <th>726</th>\n",
       "      <td>360.0</td>\n",
       "      <td>3096.2</td>\n",
       "      <td>ОПЛАЧЕНО</td>\n",
       "      <td>Васильев</td>\n",
       "      <td>новая</td>\n",
       "      <td>НЕТ</td>\n",
       "      <td>NaT</td>\n",
       "    </tr>\n",
       "    <tr>\n",
       "      <th>727</th>\n",
       "      <td>360.0</td>\n",
       "      <td>3096.2</td>\n",
       "      <td>ПРОСРОЧЕНО</td>\n",
       "      <td>Васильев</td>\n",
       "      <td>новая</td>\n",
       "      <td>НЕТ</td>\n",
       "      <td>NaT</td>\n",
       "    </tr>\n",
       "    <tr>\n",
       "      <th>728</th>\n",
       "      <td>373.0</td>\n",
       "      <td>4403.7</td>\n",
       "      <td>ОПЛАЧЕНО</td>\n",
       "      <td>Михайлов</td>\n",
       "      <td>новая</td>\n",
       "      <td>оригинал</td>\n",
       "      <td>2021-11-08</td>\n",
       "    </tr>\n",
       "    <tr>\n",
       "      <th>729</th>\n",
       "      <td>286.0</td>\n",
       "      <td>3978.7</td>\n",
       "      <td>ОПЛАЧЕНО</td>\n",
       "      <td>Филимонова</td>\n",
       "      <td>текущая</td>\n",
       "      <td>оригинал</td>\n",
       "      <td>2021-11-15</td>\n",
       "    </tr>\n",
       "  </tbody>\n",
       "</table>\n",
       "<p>724 rows × 7 columns</p>\n",
       "</div>"
      ],
      "text/plain": [
       "     client_id      sum      status        sale new/current  document  \\\n",
       "1          6.0  11693.7  ВНУТРЕННИЙ           -           -         -   \n",
       "2         14.0   5452.7    ОПЛАЧЕНО     Петрова       новая  оригинал   \n",
       "3         15.0  13991.7    ОПЛАЧЕНО      Иванов     текущая  оригинал   \n",
       "4         16.0    719.7    ОПЛАЧЕНО      Иванов     текущая  оригинал   \n",
       "5         18.0   4253.7    ОПЛАЧЕНО      Иванов     текущая  оригинал   \n",
       "..         ...      ...         ...         ...         ...       ...   \n",
       "725      285.0   4328.7    ОПЛАЧЕНО    Васильев     текущая  оригинал   \n",
       "726      360.0   3096.2    ОПЛАЧЕНО    Васильев       новая       НЕТ   \n",
       "727      360.0   3096.2  ПРОСРОЧЕНО    Васильев       новая       НЕТ   \n",
       "728      373.0   4403.7    ОПЛАЧЕНО    Михайлов       новая  оригинал   \n",
       "729      286.0   3978.7    ОПЛАЧЕНО  Филимонова     текущая  оригинал   \n",
       "\n",
       "    receiving_date  \n",
       "1              NaT  \n",
       "2       2021-07-26  \n",
       "3       2021-06-08  \n",
       "4       2021-06-08  \n",
       "5       2021-07-07  \n",
       "..             ...  \n",
       "725     2021-11-15  \n",
       "726            NaT  \n",
       "727            NaT  \n",
       "728     2021-11-08  \n",
       "729     2021-11-15  \n",
       "\n",
       "[724 rows x 7 columns]"
      ]
     },
     "execution_count": 184,
     "metadata": {},
     "output_type": "execute_result"
    }
   ],
   "source": [
    "data"
   ]
  },
  {
   "cell_type": "markdown",
   "id": "93e8c0ad-22c7-4789-9764-d9d4a279f41c",
   "metadata": {},
   "source": [
    "#### Помимо этого, тип данных столбца client_id это число с палавающей точкой. Изменим на целочисленное значение:"
   ]
  },
  {
   "cell_type": "code",
   "execution_count": 190,
   "id": "be50377d-59e9-4e9b-babd-6234e853ffe9",
   "metadata": {},
   "outputs": [],
   "source": [
    "data['client_id'] = data['client_id'].astype(int)"
   ]
  },
  {
   "cell_type": "code",
   "execution_count": 192,
   "id": "7b289101-1f18-48af-8d16-1aa68f16be94",
   "metadata": {},
   "outputs": [
    {
     "data": {
      "text/html": [
       "<div>\n",
       "<style scoped>\n",
       "    .dataframe tbody tr th:only-of-type {\n",
       "        vertical-align: middle;\n",
       "    }\n",
       "\n",
       "    .dataframe tbody tr th {\n",
       "        vertical-align: top;\n",
       "    }\n",
       "\n",
       "    .dataframe thead th {\n",
       "        text-align: right;\n",
       "    }\n",
       "</style>\n",
       "<table border=\"1\" class=\"dataframe\">\n",
       "  <thead>\n",
       "    <tr style=\"text-align: right;\">\n",
       "      <th></th>\n",
       "      <th>client_id</th>\n",
       "      <th>sum</th>\n",
       "      <th>status</th>\n",
       "      <th>sale</th>\n",
       "      <th>new/current</th>\n",
       "      <th>document</th>\n",
       "      <th>receiving_date</th>\n",
       "    </tr>\n",
       "  </thead>\n",
       "  <tbody>\n",
       "    <tr>\n",
       "      <th>1</th>\n",
       "      <td>6</td>\n",
       "      <td>11693.7</td>\n",
       "      <td>ВНУТРЕННИЙ</td>\n",
       "      <td>-</td>\n",
       "      <td>-</td>\n",
       "      <td>-</td>\n",
       "      <td>NaT</td>\n",
       "    </tr>\n",
       "    <tr>\n",
       "      <th>2</th>\n",
       "      <td>14</td>\n",
       "      <td>5452.7</td>\n",
       "      <td>ОПЛАЧЕНО</td>\n",
       "      <td>Петрова</td>\n",
       "      <td>новая</td>\n",
       "      <td>оригинал</td>\n",
       "      <td>2021-07-26</td>\n",
       "    </tr>\n",
       "    <tr>\n",
       "      <th>3</th>\n",
       "      <td>15</td>\n",
       "      <td>13991.7</td>\n",
       "      <td>ОПЛАЧЕНО</td>\n",
       "      <td>Иванов</td>\n",
       "      <td>текущая</td>\n",
       "      <td>оригинал</td>\n",
       "      <td>2021-06-08</td>\n",
       "    </tr>\n",
       "    <tr>\n",
       "      <th>4</th>\n",
       "      <td>16</td>\n",
       "      <td>719.7</td>\n",
       "      <td>ОПЛАЧЕНО</td>\n",
       "      <td>Иванов</td>\n",
       "      <td>текущая</td>\n",
       "      <td>оригинал</td>\n",
       "      <td>2021-06-08</td>\n",
       "    </tr>\n",
       "    <tr>\n",
       "      <th>5</th>\n",
       "      <td>18</td>\n",
       "      <td>4253.7</td>\n",
       "      <td>ОПЛАЧЕНО</td>\n",
       "      <td>Иванов</td>\n",
       "      <td>текущая</td>\n",
       "      <td>оригинал</td>\n",
       "      <td>2021-07-07</td>\n",
       "    </tr>\n",
       "  </tbody>\n",
       "</table>\n",
       "</div>"
      ],
      "text/plain": [
       "   client_id      sum      status     sale new/current  document  \\\n",
       "1          6  11693.7  ВНУТРЕННИЙ        -           -         -   \n",
       "2         14   5452.7    ОПЛАЧЕНО  Петрова       новая  оригинал   \n",
       "3         15  13991.7    ОПЛАЧЕНО   Иванов     текущая  оригинал   \n",
       "4         16    719.7    ОПЛАЧЕНО   Иванов     текущая  оригинал   \n",
       "5         18   4253.7    ОПЛАЧЕНО   Иванов     текущая  оригинал   \n",
       "\n",
       "  receiving_date  \n",
       "1            NaT  \n",
       "2     2021-07-26  \n",
       "3     2021-06-08  \n",
       "4     2021-06-08  \n",
       "5     2021-07-07  "
      ]
     },
     "execution_count": 192,
     "metadata": {},
     "output_type": "execute_result"
    }
   ],
   "source": [
    "data.head()"
   ]
  },
  {
   "cell_type": "markdown",
   "id": "daa7d914-bc58-478f-aa81-b39ff96c3760",
   "metadata": {},
   "source": [
    "### Вопросы"
   ]
  },
  {
   "cell_type": "markdown",
   "id": "c2922fc7-d656-468b-8d7f-dbd3895a8f97",
   "metadata": {},
   "source": [
    "#### 1)  Вычислите общую выручку за июль 2021 по тем сделкам, приход денежных средств которых не просрочен."
   ]
  },
  {
   "cell_type": "markdown",
   "id": "be40130b-30f1-4f18-a154-d42ce4f2f453",
   "metadata": {},
   "source": [
    "##### Для удобства работы с датами приведем столбец receiving_date к типу datetime.\n",
    "##### Однако в некоторых строках нет даты. Удалять такие строки не станем, так как мы потеряем остальную ифнормацию. Напишем функцию, которая обработает такую ситуацию:"
   ]
  },
  {
   "cell_type": "code",
   "execution_count": 194,
   "id": "2b010107-668d-4428-aff7-a9393e3d2c5a",
   "metadata": {},
   "outputs": [],
   "source": [
    "def convert_to_datetime(column):\n",
    "    try:\n",
    "        return pd.to_datetime(column, format='%Y-%m-%d')\n",
    "    except:\n",
    "        # В таком случае в ячейки, которые не удастся привести к типу datetime, попадет значение NaT (Not a Time)\n",
    "        # Такое значение не будет учитываться при фильтрации таблицы по датам\n",
    "        return pd.NaT"
   ]
  },
  {
   "cell_type": "code",
   "execution_count": 196,
   "id": "ba5be3ba-48a1-48db-a38c-c2196ee4958f",
   "metadata": {},
   "outputs": [],
   "source": [
    "data['receiving_date'] = data['receiving_date'].apply(convert_to_datetime)"
   ]
  },
  {
   "cell_type": "markdown",
   "id": "3aa05ffd-327f-46ff-a23d-84eebba80a73",
   "metadata": {},
   "source": [
    "##### Посмотрим, что получилось:"
   ]
  },
  {
   "cell_type": "code",
   "execution_count": 199,
   "id": "ff1d849c-1a6d-414a-a9ef-31ab75c5565e",
   "metadata": {},
   "outputs": [
    {
     "name": "stdout",
     "output_type": "stream",
     "text": [
      "<class 'pandas.core.series.Series'>\n",
      "Index: 724 entries, 1 to 729\n",
      "Series name: receiving_date\n",
      "Non-Null Count  Dtype         \n",
      "--------------  -----         \n",
      "606 non-null    datetime64[ns]\n",
      "dtypes: datetime64[ns](1)\n",
      "memory usage: 27.5 KB\n"
     ]
    }
   ],
   "source": [
    "data['receiving_date'].info()"
   ]
  },
  {
   "cell_type": "code",
   "execution_count": 201,
   "id": "16a0b485-303e-4362-a1fc-7872f5437f01",
   "metadata": {},
   "outputs": [
    {
     "data": {
      "text/html": [
       "<div>\n",
       "<style scoped>\n",
       "    .dataframe tbody tr th:only-of-type {\n",
       "        vertical-align: middle;\n",
       "    }\n",
       "\n",
       "    .dataframe tbody tr th {\n",
       "        vertical-align: top;\n",
       "    }\n",
       "\n",
       "    .dataframe thead th {\n",
       "        text-align: right;\n",
       "    }\n",
       "</style>\n",
       "<table border=\"1\" class=\"dataframe\">\n",
       "  <thead>\n",
       "    <tr style=\"text-align: right;\">\n",
       "      <th></th>\n",
       "      <th>client_id</th>\n",
       "      <th>sum</th>\n",
       "      <th>status</th>\n",
       "      <th>sale</th>\n",
       "      <th>new/current</th>\n",
       "      <th>document</th>\n",
       "      <th>receiving_date</th>\n",
       "    </tr>\n",
       "  </thead>\n",
       "  <tbody>\n",
       "    <tr>\n",
       "      <th>1</th>\n",
       "      <td>6</td>\n",
       "      <td>11693.7</td>\n",
       "      <td>ВНУТРЕННИЙ</td>\n",
       "      <td>-</td>\n",
       "      <td>-</td>\n",
       "      <td>-</td>\n",
       "      <td>NaT</td>\n",
       "    </tr>\n",
       "    <tr>\n",
       "      <th>2</th>\n",
       "      <td>14</td>\n",
       "      <td>5452.7</td>\n",
       "      <td>ОПЛАЧЕНО</td>\n",
       "      <td>Петрова</td>\n",
       "      <td>новая</td>\n",
       "      <td>оригинал</td>\n",
       "      <td>2021-07-26</td>\n",
       "    </tr>\n",
       "    <tr>\n",
       "      <th>3</th>\n",
       "      <td>15</td>\n",
       "      <td>13991.7</td>\n",
       "      <td>ОПЛАЧЕНО</td>\n",
       "      <td>Иванов</td>\n",
       "      <td>текущая</td>\n",
       "      <td>оригинал</td>\n",
       "      <td>2021-06-08</td>\n",
       "    </tr>\n",
       "    <tr>\n",
       "      <th>4</th>\n",
       "      <td>16</td>\n",
       "      <td>719.7</td>\n",
       "      <td>ОПЛАЧЕНО</td>\n",
       "      <td>Иванов</td>\n",
       "      <td>текущая</td>\n",
       "      <td>оригинал</td>\n",
       "      <td>2021-06-08</td>\n",
       "    </tr>\n",
       "    <tr>\n",
       "      <th>5</th>\n",
       "      <td>18</td>\n",
       "      <td>4253.7</td>\n",
       "      <td>ОПЛАЧЕНО</td>\n",
       "      <td>Иванов</td>\n",
       "      <td>текущая</td>\n",
       "      <td>оригинал</td>\n",
       "      <td>2021-07-07</td>\n",
       "    </tr>\n",
       "    <tr>\n",
       "      <th>...</th>\n",
       "      <td>...</td>\n",
       "      <td>...</td>\n",
       "      <td>...</td>\n",
       "      <td>...</td>\n",
       "      <td>...</td>\n",
       "      <td>...</td>\n",
       "      <td>...</td>\n",
       "    </tr>\n",
       "    <tr>\n",
       "      <th>725</th>\n",
       "      <td>285</td>\n",
       "      <td>4328.7</td>\n",
       "      <td>ОПЛАЧЕНО</td>\n",
       "      <td>Васильев</td>\n",
       "      <td>текущая</td>\n",
       "      <td>оригинал</td>\n",
       "      <td>2021-11-15</td>\n",
       "    </tr>\n",
       "    <tr>\n",
       "      <th>726</th>\n",
       "      <td>360</td>\n",
       "      <td>3096.2</td>\n",
       "      <td>ОПЛАЧЕНО</td>\n",
       "      <td>Васильев</td>\n",
       "      <td>новая</td>\n",
       "      <td>НЕТ</td>\n",
       "      <td>NaT</td>\n",
       "    </tr>\n",
       "    <tr>\n",
       "      <th>727</th>\n",
       "      <td>360</td>\n",
       "      <td>3096.2</td>\n",
       "      <td>ПРОСРОЧЕНО</td>\n",
       "      <td>Васильев</td>\n",
       "      <td>новая</td>\n",
       "      <td>НЕТ</td>\n",
       "      <td>NaT</td>\n",
       "    </tr>\n",
       "    <tr>\n",
       "      <th>728</th>\n",
       "      <td>373</td>\n",
       "      <td>4403.7</td>\n",
       "      <td>ОПЛАЧЕНО</td>\n",
       "      <td>Михайлов</td>\n",
       "      <td>новая</td>\n",
       "      <td>оригинал</td>\n",
       "      <td>2021-11-08</td>\n",
       "    </tr>\n",
       "    <tr>\n",
       "      <th>729</th>\n",
       "      <td>286</td>\n",
       "      <td>3978.7</td>\n",
       "      <td>ОПЛАЧЕНО</td>\n",
       "      <td>Филимонова</td>\n",
       "      <td>текущая</td>\n",
       "      <td>оригинал</td>\n",
       "      <td>2021-11-15</td>\n",
       "    </tr>\n",
       "  </tbody>\n",
       "</table>\n",
       "<p>724 rows × 7 columns</p>\n",
       "</div>"
      ],
      "text/plain": [
       "     client_id      sum      status        sale new/current  document  \\\n",
       "1            6  11693.7  ВНУТРЕННИЙ           -           -         -   \n",
       "2           14   5452.7    ОПЛАЧЕНО     Петрова       новая  оригинал   \n",
       "3           15  13991.7    ОПЛАЧЕНО      Иванов     текущая  оригинал   \n",
       "4           16    719.7    ОПЛАЧЕНО      Иванов     текущая  оригинал   \n",
       "5           18   4253.7    ОПЛАЧЕНО      Иванов     текущая  оригинал   \n",
       "..         ...      ...         ...         ...         ...       ...   \n",
       "725        285   4328.7    ОПЛАЧЕНО    Васильев     текущая  оригинал   \n",
       "726        360   3096.2    ОПЛАЧЕНО    Васильев       новая       НЕТ   \n",
       "727        360   3096.2  ПРОСРОЧЕНО    Васильев       новая       НЕТ   \n",
       "728        373   4403.7    ОПЛАЧЕНО    Михайлов       новая  оригинал   \n",
       "729        286   3978.7    ОПЛАЧЕНО  Филимонова     текущая  оригинал   \n",
       "\n",
       "    receiving_date  \n",
       "1              NaT  \n",
       "2       2021-07-26  \n",
       "3       2021-06-08  \n",
       "4       2021-06-08  \n",
       "5       2021-07-07  \n",
       "..             ...  \n",
       "725     2021-11-15  \n",
       "726            NaT  \n",
       "727            NaT  \n",
       "728     2021-11-08  \n",
       "729     2021-11-15  \n",
       "\n",
       "[724 rows x 7 columns]"
      ]
     },
     "execution_count": 201,
     "metadata": {},
     "output_type": "execute_result"
    }
   ],
   "source": [
    "data"
   ]
  },
  {
   "cell_type": "markdown",
   "id": "9ca82180-912c-489f-b4dd-a4b0dbb63fad",
   "metadata": {},
   "source": [
    "##### Посмотрим, какие вообще статусы оплаты у нас есть:"
   ]
  },
  {
   "cell_type": "code",
   "execution_count": 204,
   "id": "184f97e6-56fa-4845-92dd-3e7c88303804",
   "metadata": {},
   "outputs": [
    {
     "data": {
      "text/plain": [
       "array(['ВНУТРЕННИЙ', 'ОПЛАЧЕНО', 'ПРОСРОЧЕНО', 'В РАБОТЕ',\n",
       "       'НА ПОДПИСАНИИ'], dtype=object)"
      ]
     },
     "execution_count": 204,
     "metadata": {},
     "output_type": "execute_result"
    }
   ],
   "source": [
    "data.status.unique()"
   ]
  },
  {
   "cell_type": "markdown",
   "id": "4e9c0a2c-a564-48d4-b679-d7e49da180eb",
   "metadata": {},
   "source": [
    "##### Теперь посчитаем прибыль за июль 2021 только по тем сделкам, статус которых НЕ просрочен.\n",
    "##### Для этого отфильтруем таблицу по заданному условию и сохраним ее в новую таблицу."
   ]
  },
  {
   "cell_type": "code",
   "execution_count": 220,
   "id": "f868b8eb-5d8f-4d45-bdba-02b7b6563ca7",
   "metadata": {},
   "outputs": [],
   "source": [
    "data_by_july =  data[(data['status'] != 'ПРОСРОЧЕНО') & (data['receiving_date'].dt.year == 2021) & (data['receiving_date'].dt.month == 7)]"
   ]
  },
  {
   "cell_type": "markdown",
   "id": "4a9cd20c-0dc5-4162-8679-a9231a88a7e0",
   "metadata": {},
   "source": [
    "##### Посмотрим, что получилось:"
   ]
  },
  {
   "cell_type": "code",
   "execution_count": 223,
   "id": "383b9e4e-80ec-49f6-a509-f651afe4fb9c",
   "metadata": {},
   "outputs": [
    {
     "data": {
      "text/html": [
       "<div>\n",
       "<style scoped>\n",
       "    .dataframe tbody tr th:only-of-type {\n",
       "        vertical-align: middle;\n",
       "    }\n",
       "\n",
       "    .dataframe tbody tr th {\n",
       "        vertical-align: top;\n",
       "    }\n",
       "\n",
       "    .dataframe thead th {\n",
       "        text-align: right;\n",
       "    }\n",
       "</style>\n",
       "<table border=\"1\" class=\"dataframe\">\n",
       "  <thead>\n",
       "    <tr style=\"text-align: right;\">\n",
       "      <th></th>\n",
       "      <th>client_id</th>\n",
       "      <th>sum</th>\n",
       "      <th>status</th>\n",
       "      <th>sale</th>\n",
       "      <th>new/current</th>\n",
       "      <th>document</th>\n",
       "      <th>receiving_date</th>\n",
       "    </tr>\n",
       "  </thead>\n",
       "  <tbody>\n",
       "    <tr>\n",
       "      <th>2</th>\n",
       "      <td>14</td>\n",
       "      <td>5452.70</td>\n",
       "      <td>ОПЛАЧЕНО</td>\n",
       "      <td>Петрова</td>\n",
       "      <td>новая</td>\n",
       "      <td>оригинал</td>\n",
       "      <td>2021-07-26</td>\n",
       "    </tr>\n",
       "    <tr>\n",
       "      <th>5</th>\n",
       "      <td>18</td>\n",
       "      <td>4253.70</td>\n",
       "      <td>ОПЛАЧЕНО</td>\n",
       "      <td>Иванов</td>\n",
       "      <td>текущая</td>\n",
       "      <td>оригинал</td>\n",
       "      <td>2021-07-07</td>\n",
       "    </tr>\n",
       "    <tr>\n",
       "      <th>6</th>\n",
       "      <td>20</td>\n",
       "      <td>5796.70</td>\n",
       "      <td>ОПЛАЧЕНО</td>\n",
       "      <td>Кузнецова</td>\n",
       "      <td>текущая</td>\n",
       "      <td>оригинал</td>\n",
       "      <td>2021-07-15</td>\n",
       "    </tr>\n",
       "    <tr>\n",
       "      <th>12</th>\n",
       "      <td>32</td>\n",
       "      <td>7353.90</td>\n",
       "      <td>ОПЛАЧЕНО</td>\n",
       "      <td>Филимонова</td>\n",
       "      <td>текущая</td>\n",
       "      <td>оригинал</td>\n",
       "      <td>2021-07-09</td>\n",
       "    </tr>\n",
       "    <tr>\n",
       "      <th>13</th>\n",
       "      <td>34</td>\n",
       "      <td>3892.52</td>\n",
       "      <td>ОПЛАЧЕНО</td>\n",
       "      <td>Филимонова</td>\n",
       "      <td>текущая</td>\n",
       "      <td>оригинал</td>\n",
       "      <td>2021-07-09</td>\n",
       "    </tr>\n",
       "    <tr>\n",
       "      <th>...</th>\n",
       "      <td>...</td>\n",
       "      <td>...</td>\n",
       "      <td>...</td>\n",
       "      <td>...</td>\n",
       "      <td>...</td>\n",
       "      <td>...</td>\n",
       "      <td>...</td>\n",
       "    </tr>\n",
       "    <tr>\n",
       "      <th>251</th>\n",
       "      <td>273</td>\n",
       "      <td>10133.70</td>\n",
       "      <td>ОПЛАЧЕНО</td>\n",
       "      <td>Петрова</td>\n",
       "      <td>текущая</td>\n",
       "      <td>оригинал</td>\n",
       "      <td>2021-07-06</td>\n",
       "    </tr>\n",
       "    <tr>\n",
       "      <th>252</th>\n",
       "      <td>277</td>\n",
       "      <td>4798.70</td>\n",
       "      <td>ОПЛАЧЕНО</td>\n",
       "      <td>Филимонова</td>\n",
       "      <td>текущая</td>\n",
       "      <td>оригинал</td>\n",
       "      <td>2021-07-08</td>\n",
       "    </tr>\n",
       "    <tr>\n",
       "      <th>253</th>\n",
       "      <td>281</td>\n",
       "      <td>5733.70</td>\n",
       "      <td>ОПЛАЧЕНО</td>\n",
       "      <td>Селиванов</td>\n",
       "      <td>текущая</td>\n",
       "      <td>оригинал</td>\n",
       "      <td>2021-07-22</td>\n",
       "    </tr>\n",
       "    <tr>\n",
       "      <th>254</th>\n",
       "      <td>282</td>\n",
       "      <td>953.70</td>\n",
       "      <td>ОПЛАЧЕНО</td>\n",
       "      <td>Селиванов</td>\n",
       "      <td>новая</td>\n",
       "      <td>оригинал</td>\n",
       "      <td>2021-07-16</td>\n",
       "    </tr>\n",
       "    <tr>\n",
       "      <th>256</th>\n",
       "      <td>286</td>\n",
       "      <td>3453.70</td>\n",
       "      <td>ОПЛАЧЕНО</td>\n",
       "      <td>Филимонова</td>\n",
       "      <td>текущая</td>\n",
       "      <td>оригинал</td>\n",
       "      <td>2021-07-22</td>\n",
       "    </tr>\n",
       "  </tbody>\n",
       "</table>\n",
       "<p>117 rows × 7 columns</p>\n",
       "</div>"
      ],
      "text/plain": [
       "     client_id       sum    status        sale new/current  document  \\\n",
       "2           14   5452.70  ОПЛАЧЕНО     Петрова       новая  оригинал   \n",
       "5           18   4253.70  ОПЛАЧЕНО      Иванов     текущая  оригинал   \n",
       "6           20   5796.70  ОПЛАЧЕНО   Кузнецова     текущая  оригинал   \n",
       "12          32   7353.90  ОПЛАЧЕНО  Филимонова     текущая  оригинал   \n",
       "13          34   3892.52  ОПЛАЧЕНО  Филимонова     текущая  оригинал   \n",
       "..         ...       ...       ...         ...         ...       ...   \n",
       "251        273  10133.70  ОПЛАЧЕНО     Петрова     текущая  оригинал   \n",
       "252        277   4798.70  ОПЛАЧЕНО  Филимонова     текущая  оригинал   \n",
       "253        281   5733.70  ОПЛАЧЕНО   Селиванов     текущая  оригинал   \n",
       "254        282    953.70  ОПЛАЧЕНО   Селиванов       новая  оригинал   \n",
       "256        286   3453.70  ОПЛАЧЕНО  Филимонова     текущая  оригинал   \n",
       "\n",
       "    receiving_date  \n",
       "2       2021-07-26  \n",
       "5       2021-07-07  \n",
       "6       2021-07-15  \n",
       "12      2021-07-09  \n",
       "13      2021-07-09  \n",
       "..             ...  \n",
       "251     2021-07-06  \n",
       "252     2021-07-08  \n",
       "253     2021-07-22  \n",
       "254     2021-07-16  \n",
       "256     2021-07-22  \n",
       "\n",
       "[117 rows x 7 columns]"
      ]
     },
     "execution_count": 223,
     "metadata": {},
     "output_type": "execute_result"
    }
   ],
   "source": [
    "data_by_july"
   ]
  },
  {
   "cell_type": "markdown",
   "id": "64d277c9-d62b-4b48-bff3-a42200131806",
   "metadata": {},
   "source": [
    "##### И наконец посчитаем сумму:"
   ]
  },
  {
   "cell_type": "code",
   "execution_count": 226,
   "id": "2cce228d-9e79-4a10-8579-eaacc7cfc353",
   "metadata": {},
   "outputs": [
    {
     "data": {
      "text/plain": [
       "np.float64(757830.7399999996)"
      ]
     },
     "execution_count": 226,
     "metadata": {},
     "output_type": "execute_result"
    }
   ],
   "source": [
    "data_by_july['sum'].sum()"
   ]
  },
  {
   "cell_type": "markdown",
   "id": "6cb79cb9-0e28-4ac8-9a13-24cf46aab3af",
   "metadata": {},
   "source": [
    "**Ответ:** Общая выручка за июль 2021 по сделкам, приход денежных средств которых не просрочен, составляет **757831**"
   ]
  },
  {
   "cell_type": "markdown",
   "id": "c85c32f0-505f-4293-8fc4-bc00d0deccd2",
   "metadata": {},
   "source": [
    "#### 2) Как изменялась выручка компании за рассматриваемый период? Проиллюстрируйте графиком."
   ]
  },
  {
   "cell_type": "markdown",
   "id": "06446a82-bc3d-4813-a4cf-d7fb9ef01125",
   "metadata": {},
   "source": [
    "##### Для начала отсортируем таблицу по дате:"
   ]
  },
  {
   "cell_type": "code",
   "execution_count": 232,
   "id": "1abf6cb8-20c4-4b5b-a633-62b2ec1e5524",
   "metadata": {},
   "outputs": [],
   "source": [
    "data_by_july_sorted = data_by_july.sort_values(by='receiving_date')"
   ]
  },
  {
   "cell_type": "code",
   "execution_count": 279,
   "id": "b99ec9c6-57d4-4e70-b280-f5713d64ca80",
   "metadata": {},
   "outputs": [
    {
     "data": {
      "text/html": [
       "<div>\n",
       "<style scoped>\n",
       "    .dataframe tbody tr th:only-of-type {\n",
       "        vertical-align: middle;\n",
       "    }\n",
       "\n",
       "    .dataframe tbody tr th {\n",
       "        vertical-align: top;\n",
       "    }\n",
       "\n",
       "    .dataframe thead th {\n",
       "        text-align: right;\n",
       "    }\n",
       "</style>\n",
       "<table border=\"1\" class=\"dataframe\">\n",
       "  <thead>\n",
       "    <tr style=\"text-align: right;\">\n",
       "      <th></th>\n",
       "      <th>client_id</th>\n",
       "      <th>sum</th>\n",
       "      <th>status</th>\n",
       "      <th>sale</th>\n",
       "      <th>new/current</th>\n",
       "      <th>document</th>\n",
       "      <th>receiving_date</th>\n",
       "    </tr>\n",
       "  </thead>\n",
       "  <tbody>\n",
       "    <tr>\n",
       "      <th>93</th>\n",
       "      <td>198</td>\n",
       "      <td>4458.7</td>\n",
       "      <td>ОПЛАЧЕНО</td>\n",
       "      <td>Смирнов</td>\n",
       "      <td>текущая</td>\n",
       "      <td>NaN</td>\n",
       "      <td>2021-07-01</td>\n",
       "    </tr>\n",
       "    <tr>\n",
       "      <th>97</th>\n",
       "      <td>204</td>\n",
       "      <td>1473.7</td>\n",
       "      <td>ОПЛАЧЕНО</td>\n",
       "      <td>Андреев</td>\n",
       "      <td>текущая</td>\n",
       "      <td>оригинал</td>\n",
       "      <td>2021-07-01</td>\n",
       "    </tr>\n",
       "    <tr>\n",
       "      <th>95</th>\n",
       "      <td>197</td>\n",
       "      <td>4693.1</td>\n",
       "      <td>ОПЛАЧЕНО</td>\n",
       "      <td>Смирнов</td>\n",
       "      <td>текущая</td>\n",
       "      <td>оригинал</td>\n",
       "      <td>2021-07-01</td>\n",
       "    </tr>\n",
       "    <tr>\n",
       "      <th>98</th>\n",
       "      <td>204</td>\n",
       "      <td>1473.7</td>\n",
       "      <td>ОПЛАЧЕНО</td>\n",
       "      <td>Андреев</td>\n",
       "      <td>текущая</td>\n",
       "      <td>оригинал</td>\n",
       "      <td>2021-07-01</td>\n",
       "    </tr>\n",
       "    <tr>\n",
       "      <th>102</th>\n",
       "      <td>220</td>\n",
       "      <td>7088.7</td>\n",
       "      <td>ОПЛАЧЕНО</td>\n",
       "      <td>Иванов</td>\n",
       "      <td>текущая</td>\n",
       "      <td>оригинал</td>\n",
       "      <td>2021-07-01</td>\n",
       "    </tr>\n",
       "    <tr>\n",
       "      <th>...</th>\n",
       "      <td>...</td>\n",
       "      <td>...</td>\n",
       "      <td>...</td>\n",
       "      <td>...</td>\n",
       "      <td>...</td>\n",
       "      <td>...</td>\n",
       "      <td>...</td>\n",
       "    </tr>\n",
       "    <tr>\n",
       "      <th>18</th>\n",
       "      <td>43</td>\n",
       "      <td>1961.2</td>\n",
       "      <td>ОПЛАЧЕНО</td>\n",
       "      <td>Селиванов</td>\n",
       "      <td>текущая</td>\n",
       "      <td>оригинал</td>\n",
       "      <td>2021-07-27</td>\n",
       "    </tr>\n",
       "    <tr>\n",
       "      <th>177</th>\n",
       "      <td>90</td>\n",
       "      <td>5442.2</td>\n",
       "      <td>ОПЛАЧЕНО</td>\n",
       "      <td>Смирнов</td>\n",
       "      <td>текущая</td>\n",
       "      <td>оригинал</td>\n",
       "      <td>2021-07-28</td>\n",
       "    </tr>\n",
       "    <tr>\n",
       "      <th>49</th>\n",
       "      <td>91</td>\n",
       "      <td>1053.7</td>\n",
       "      <td>ОПЛАЧЕНО</td>\n",
       "      <td>Смирнов</td>\n",
       "      <td>текущая</td>\n",
       "      <td>NaN</td>\n",
       "      <td>2021-07-28</td>\n",
       "    </tr>\n",
       "    <tr>\n",
       "      <th>48</th>\n",
       "      <td>90</td>\n",
       "      <td>16123.7</td>\n",
       "      <td>ОПЛАЧЕНО</td>\n",
       "      <td>Смирнов</td>\n",
       "      <td>текущая</td>\n",
       "      <td>NaN</td>\n",
       "      <td>2021-07-28</td>\n",
       "    </tr>\n",
       "    <tr>\n",
       "      <th>137</th>\n",
       "      <td>28</td>\n",
       "      <td>10858.7</td>\n",
       "      <td>ОПЛАЧЕНО</td>\n",
       "      <td>Андреев</td>\n",
       "      <td>текущая</td>\n",
       "      <td>оригинал</td>\n",
       "      <td>2021-07-30</td>\n",
       "    </tr>\n",
       "  </tbody>\n",
       "</table>\n",
       "<p>117 rows × 7 columns</p>\n",
       "</div>"
      ],
      "text/plain": [
       "     client_id      sum    status       sale new/current  document  \\\n",
       "93         198   4458.7  ОПЛАЧЕНО    Смирнов     текущая       NaN   \n",
       "97         204   1473.7  ОПЛАЧЕНО    Андреев     текущая  оригинал   \n",
       "95         197   4693.1  ОПЛАЧЕНО    Смирнов     текущая  оригинал   \n",
       "98         204   1473.7  ОПЛАЧЕНО    Андреев     текущая  оригинал   \n",
       "102        220   7088.7  ОПЛАЧЕНО     Иванов     текущая  оригинал   \n",
       "..         ...      ...       ...        ...         ...       ...   \n",
       "18          43   1961.2  ОПЛАЧЕНО  Селиванов     текущая  оригинал   \n",
       "177         90   5442.2  ОПЛАЧЕНО    Смирнов     текущая  оригинал   \n",
       "49          91   1053.7  ОПЛАЧЕНО    Смирнов     текущая       NaN   \n",
       "48          90  16123.7  ОПЛАЧЕНО    Смирнов     текущая       NaN   \n",
       "137         28  10858.7  ОПЛАЧЕНО    Андреев     текущая  оригинал   \n",
       "\n",
       "    receiving_date  \n",
       "93      2021-07-01  \n",
       "97      2021-07-01  \n",
       "95      2021-07-01  \n",
       "98      2021-07-01  \n",
       "102     2021-07-01  \n",
       "..             ...  \n",
       "18      2021-07-27  \n",
       "177     2021-07-28  \n",
       "49      2021-07-28  \n",
       "48      2021-07-28  \n",
       "137     2021-07-30  \n",
       "\n",
       "[117 rows x 7 columns]"
      ]
     },
     "execution_count": 279,
     "metadata": {},
     "output_type": "execute_result"
    }
   ],
   "source": [
    "data_by_july_sorted"
   ]
  },
  {
   "cell_type": "markdown",
   "id": "a606fdce-6ee5-470e-a4a9-ad94abd227af",
   "metadata": {},
   "source": [
    "##### Теперь сгруппируем таблицу по датам и посчитаем сумму денежных средств:"
   ]
  },
  {
   "cell_type": "code",
   "execution_count": 335,
   "id": "a213a89e-9eba-40bd-a65d-813d6e772061",
   "metadata": {},
   "outputs": [],
   "source": [
    "data_by_july_grouped = data_by_july_sorted.groupby('receiving_date')['sum'].sum().to_frame().reset_index()"
   ]
  },
  {
   "cell_type": "code",
   "execution_count": 349,
   "id": "75698351-daac-4ebe-8d12-fbad2879cb37",
   "metadata": {},
   "outputs": [
    {
     "data": {
      "text/html": [
       "<div>\n",
       "<style scoped>\n",
       "    .dataframe tbody tr th:only-of-type {\n",
       "        vertical-align: middle;\n",
       "    }\n",
       "\n",
       "    .dataframe tbody tr th {\n",
       "        vertical-align: top;\n",
       "    }\n",
       "\n",
       "    .dataframe thead th {\n",
       "        text-align: right;\n",
       "    }\n",
       "</style>\n",
       "<table border=\"1\" class=\"dataframe\">\n",
       "  <thead>\n",
       "    <tr style=\"text-align: right;\">\n",
       "      <th></th>\n",
       "      <th>receiving_date</th>\n",
       "      <th>sum</th>\n",
       "    </tr>\n",
       "  </thead>\n",
       "  <tbody>\n",
       "    <tr>\n",
       "      <th>0</th>\n",
       "      <td>2021-07-01</td>\n",
       "      <td>19187.90</td>\n",
       "    </tr>\n",
       "    <tr>\n",
       "      <th>1</th>\n",
       "      <td>2021-07-02</td>\n",
       "      <td>24448.15</td>\n",
       "    </tr>\n",
       "    <tr>\n",
       "      <th>2</th>\n",
       "      <td>2021-07-05</td>\n",
       "      <td>7270.90</td>\n",
       "    </tr>\n",
       "    <tr>\n",
       "      <th>3</th>\n",
       "      <td>2021-07-06</td>\n",
       "      <td>102776.12</td>\n",
       "    </tr>\n",
       "    <tr>\n",
       "      <th>4</th>\n",
       "      <td>2021-07-07</td>\n",
       "      <td>56170.30</td>\n",
       "    </tr>\n",
       "    <tr>\n",
       "      <th>5</th>\n",
       "      <td>2021-07-08</td>\n",
       "      <td>32527.70</td>\n",
       "    </tr>\n",
       "    <tr>\n",
       "      <th>6</th>\n",
       "      <td>2021-07-09</td>\n",
       "      <td>29503.05</td>\n",
       "    </tr>\n",
       "    <tr>\n",
       "      <th>7</th>\n",
       "      <td>2021-07-12</td>\n",
       "      <td>36484.80</td>\n",
       "    </tr>\n",
       "    <tr>\n",
       "      <th>8</th>\n",
       "      <td>2021-07-13</td>\n",
       "      <td>66333.70</td>\n",
       "    </tr>\n",
       "    <tr>\n",
       "      <th>9</th>\n",
       "      <td>2021-07-14</td>\n",
       "      <td>13878.50</td>\n",
       "    </tr>\n",
       "    <tr>\n",
       "      <th>10</th>\n",
       "      <td>2021-07-15</td>\n",
       "      <td>35397.50</td>\n",
       "    </tr>\n",
       "    <tr>\n",
       "      <th>11</th>\n",
       "      <td>2021-07-16</td>\n",
       "      <td>69003.80</td>\n",
       "    </tr>\n",
       "    <tr>\n",
       "      <th>12</th>\n",
       "      <td>2021-07-19</td>\n",
       "      <td>65134.88</td>\n",
       "    </tr>\n",
       "    <tr>\n",
       "      <th>13</th>\n",
       "      <td>2021-07-20</td>\n",
       "      <td>6320.70</td>\n",
       "    </tr>\n",
       "    <tr>\n",
       "      <th>14</th>\n",
       "      <td>2021-07-21</td>\n",
       "      <td>38101.44</td>\n",
       "    </tr>\n",
       "    <tr>\n",
       "      <th>15</th>\n",
       "      <td>2021-07-22</td>\n",
       "      <td>70059.70</td>\n",
       "    </tr>\n",
       "    <tr>\n",
       "      <th>16</th>\n",
       "      <td>2021-07-23</td>\n",
       "      <td>3361.70</td>\n",
       "    </tr>\n",
       "    <tr>\n",
       "      <th>17</th>\n",
       "      <td>2021-07-26</td>\n",
       "      <td>11424.40</td>\n",
       "    </tr>\n",
       "    <tr>\n",
       "      <th>18</th>\n",
       "      <td>2021-07-27</td>\n",
       "      <td>36967.20</td>\n",
       "    </tr>\n",
       "    <tr>\n",
       "      <th>19</th>\n",
       "      <td>2021-07-28</td>\n",
       "      <td>22619.60</td>\n",
       "    </tr>\n",
       "    <tr>\n",
       "      <th>20</th>\n",
       "      <td>2021-07-30</td>\n",
       "      <td>10858.70</td>\n",
       "    </tr>\n",
       "  </tbody>\n",
       "</table>\n",
       "</div>"
      ],
      "text/plain": [
       "   receiving_date        sum\n",
       "0      2021-07-01   19187.90\n",
       "1      2021-07-02   24448.15\n",
       "2      2021-07-05    7270.90\n",
       "3      2021-07-06  102776.12\n",
       "4      2021-07-07   56170.30\n",
       "5      2021-07-08   32527.70\n",
       "6      2021-07-09   29503.05\n",
       "7      2021-07-12   36484.80\n",
       "8      2021-07-13   66333.70\n",
       "9      2021-07-14   13878.50\n",
       "10     2021-07-15   35397.50\n",
       "11     2021-07-16   69003.80\n",
       "12     2021-07-19   65134.88\n",
       "13     2021-07-20    6320.70\n",
       "14     2021-07-21   38101.44\n",
       "15     2021-07-22   70059.70\n",
       "16     2021-07-23    3361.70\n",
       "17     2021-07-26   11424.40\n",
       "18     2021-07-27   36967.20\n",
       "19     2021-07-28   22619.60\n",
       "20     2021-07-30   10858.70"
      ]
     },
     "execution_count": 349,
     "metadata": {},
     "output_type": "execute_result"
    }
   ],
   "source": [
    "data_by_july_grouped"
   ]
  },
  {
   "cell_type": "markdown",
   "id": "305a0a3b-bf70-4bd3-bdfa-0e51487e8b11",
   "metadata": {},
   "source": [
    "##### Для визуализации данных будем использовать библиотеку matplotlib"
   ]
  },
  {
   "cell_type": "code",
   "execution_count": 236,
   "id": "fa517e48-a618-426f-b04c-b551db4deabc",
   "metadata": {},
   "outputs": [],
   "source": [
    "import matplotlib.pyplot as plt"
   ]
  },
  {
   "cell_type": "code",
   "execution_count": 369,
   "id": "58073f2e-6e7e-4537-892d-a481a5f003e1",
   "metadata": {},
   "outputs": [
    {
     "data": {
      "image/png": "[encoded data removed]",
      "text/plain": [
       "<Figure size 640x480 with 1 Axes>"
      ]
     },
     "metadata": {},
     "output_type": "display_data"
    }
   ],
   "source": [
    "x = data_by_july_grouped['receiving_date'].astype(str) # Я понимаю, что это костыль, но без этого между датами будут разрывы\n",
    "                                                       # Пока что я не нашел более красивого способа ¯\\_(ツ)_/¯\n",
    "y = data_by_july_grouped['sum']\n",
    "\n",
    "plt.bar(x, y)\n",
    "\n",
    "plt.title('Выручка компании за июль')\n",
    "plt.xlabel('Дата')\n",
    "plt.ylabel('Сумма')\n",
    "\n",
    "plt.xticks(rotation=60, ha='right')\n",
    "\n",
    "plt.show()"
   ]
  },
  {
   "cell_type": "markdown",
   "id": "764d140b-bfe5-4640-b1e2-63eee5a5e02e",
   "metadata": {},
   "source": [
    "#### 3) Кто из менеджеров привлек для компании больше всего денежных средств в сентябре 2021?"
   ]
  },
  {
   "cell_type": "markdown",
   "id": "99166ab8-b7a6-4506-b23a-400af99d8bce",
   "metadata": {},
   "source": [
    "##### Для начала отфильтруем таблицу по дате, выбрав только сентябрь 2021:"
   ]
  },
  {
   "cell_type": "code",
   "execution_count": 371,
   "id": "09588566-b9a0-4a20-80ce-caf9f155bec2",
   "metadata": {},
   "outputs": [],
   "source": [
    "data_by_september = data.loc[(data['receiving_date'] >= '2021-09-01') & (data['receiving_date'] <= '2021-09-30')]"
   ]
  },
  {
   "cell_type": "code",
   "execution_count": 373,
   "id": "b4d5e0a6-82ba-4a77-b65c-06ed2cd62663",
   "metadata": {},
   "outputs": [
    {
     "data": {
      "text/html": [
       "<div>\n",
       "<style scoped>\n",
       "    .dataframe tbody tr th:only-of-type {\n",
       "        vertical-align: middle;\n",
       "    }\n",
       "\n",
       "    .dataframe tbody tr th {\n",
       "        vertical-align: top;\n",
       "    }\n",
       "\n",
       "    .dataframe thead th {\n",
       "        text-align: right;\n",
       "    }\n",
       "</style>\n",
       "<table border=\"1\" class=\"dataframe\">\n",
       "  <thead>\n",
       "    <tr style=\"text-align: right;\">\n",
       "      <th></th>\n",
       "      <th>client_id</th>\n",
       "      <th>sum</th>\n",
       "      <th>status</th>\n",
       "      <th>sale</th>\n",
       "      <th>new/current</th>\n",
       "      <th>document</th>\n",
       "      <th>receiving_date</th>\n",
       "    </tr>\n",
       "  </thead>\n",
       "  <tbody>\n",
       "    <tr>\n",
       "      <th>21</th>\n",
       "      <td>46</td>\n",
       "      <td>4945.7</td>\n",
       "      <td>ОПЛАЧЕНО</td>\n",
       "      <td>Петрова</td>\n",
       "      <td>текущая</td>\n",
       "      <td>оригинал</td>\n",
       "      <td>2021-09-23</td>\n",
       "    </tr>\n",
       "    <tr>\n",
       "      <th>22</th>\n",
       "      <td>47</td>\n",
       "      <td>4449.7</td>\n",
       "      <td>ОПЛАЧЕНО</td>\n",
       "      <td>Петрова</td>\n",
       "      <td>текущая</td>\n",
       "      <td>оригинал</td>\n",
       "      <td>2021-09-23</td>\n",
       "    </tr>\n",
       "    <tr>\n",
       "      <th>23</th>\n",
       "      <td>49</td>\n",
       "      <td>7203.7</td>\n",
       "      <td>ОПЛАЧЕНО</td>\n",
       "      <td>Петрова</td>\n",
       "      <td>текущая</td>\n",
       "      <td>оригинал</td>\n",
       "      <td>2021-09-23</td>\n",
       "    </tr>\n",
       "    <tr>\n",
       "      <th>29</th>\n",
       "      <td>59</td>\n",
       "      <td>3938.7</td>\n",
       "      <td>ОПЛАЧЕНО</td>\n",
       "      <td>Петрова</td>\n",
       "      <td>текущая</td>\n",
       "      <td>оригинал</td>\n",
       "      <td>2021-09-23</td>\n",
       "    </tr>\n",
       "    <tr>\n",
       "      <th>133</th>\n",
       "      <td>18</td>\n",
       "      <td>2996.7</td>\n",
       "      <td>ОПЛАЧЕНО</td>\n",
       "      <td>Иванов</td>\n",
       "      <td>текущая</td>\n",
       "      <td>оригинал</td>\n",
       "      <td>2021-09-09</td>\n",
       "    </tr>\n",
       "    <tr>\n",
       "      <th>...</th>\n",
       "      <td>...</td>\n",
       "      <td>...</td>\n",
       "      <td>...</td>\n",
       "      <td>...</td>\n",
       "      <td>...</td>\n",
       "      <td>...</td>\n",
       "      <td>...</td>\n",
       "    </tr>\n",
       "    <tr>\n",
       "      <th>479</th>\n",
       "      <td>303</td>\n",
       "      <td>22413.7</td>\n",
       "      <td>ОПЛАЧЕНО</td>\n",
       "      <td>Андреев</td>\n",
       "      <td>новая</td>\n",
       "      <td>оригинал</td>\n",
       "      <td>2021-09-10</td>\n",
       "    </tr>\n",
       "    <tr>\n",
       "      <th>480</th>\n",
       "      <td>304</td>\n",
       "      <td>1783.7</td>\n",
       "      <td>ОПЛАЧЕНО</td>\n",
       "      <td>Андреев</td>\n",
       "      <td>новая</td>\n",
       "      <td>оригинал</td>\n",
       "      <td>2021-09-10</td>\n",
       "    </tr>\n",
       "    <tr>\n",
       "      <th>481</th>\n",
       "      <td>285</td>\n",
       "      <td>3423.7</td>\n",
       "      <td>ОПЛАЧЕНО</td>\n",
       "      <td>Васильев</td>\n",
       "      <td>новая</td>\n",
       "      <td>оригинал</td>\n",
       "      <td>2021-09-02</td>\n",
       "    </tr>\n",
       "    <tr>\n",
       "      <th>482</th>\n",
       "      <td>286</td>\n",
       "      <td>3678.7</td>\n",
       "      <td>ОПЛАЧЕНО</td>\n",
       "      <td>Филимонова</td>\n",
       "      <td>текущая</td>\n",
       "      <td>оригинал</td>\n",
       "      <td>2021-09-21</td>\n",
       "    </tr>\n",
       "    <tr>\n",
       "      <th>483</th>\n",
       "      <td>287</td>\n",
       "      <td>6518.7</td>\n",
       "      <td>ОПЛАЧЕНО</td>\n",
       "      <td>Филимонова</td>\n",
       "      <td>текущая</td>\n",
       "      <td>оригинал</td>\n",
       "      <td>2021-09-07</td>\n",
       "    </tr>\n",
       "  </tbody>\n",
       "</table>\n",
       "<p>119 rows × 7 columns</p>\n",
       "</div>"
      ],
      "text/plain": [
       "     client_id      sum    status        sale new/current  document  \\\n",
       "21          46   4945.7  ОПЛАЧЕНО     Петрова     текущая  оригинал   \n",
       "22          47   4449.7  ОПЛАЧЕНО     Петрова     текущая  оригинал   \n",
       "23          49   7203.7  ОПЛАЧЕНО     Петрова     текущая  оригинал   \n",
       "29          59   3938.7  ОПЛАЧЕНО     Петрова     текущая  оригинал   \n",
       "133         18   2996.7  ОПЛАЧЕНО      Иванов     текущая  оригинал   \n",
       "..         ...      ...       ...         ...         ...       ...   \n",
       "479        303  22413.7  ОПЛАЧЕНО     Андреев       новая  оригинал   \n",
       "480        304   1783.7  ОПЛАЧЕНО     Андреев       новая  оригинал   \n",
       "481        285   3423.7  ОПЛАЧЕНО    Васильев       новая  оригинал   \n",
       "482        286   3678.7  ОПЛАЧЕНО  Филимонова     текущая  оригинал   \n",
       "483        287   6518.7  ОПЛАЧЕНО  Филимонова     текущая  оригинал   \n",
       "\n",
       "    receiving_date  \n",
       "21      2021-09-23  \n",
       "22      2021-09-23  \n",
       "23      2021-09-23  \n",
       "29      2021-09-23  \n",
       "133     2021-09-09  \n",
       "..             ...  \n",
       "479     2021-09-10  \n",
       "480     2021-09-10  \n",
       "481     2021-09-02  \n",
       "482     2021-09-21  \n",
       "483     2021-09-07  \n",
       "\n",
       "[119 rows x 7 columns]"
      ]
     },
     "execution_count": 373,
     "metadata": {},
     "output_type": "execute_result"
    }
   ],
   "source": [
    "data_by_september"
   ]
  },
  {
   "cell_type": "markdown",
   "id": "b75fd51a-3fbc-4151-a02f-584f13333325",
   "metadata": {},
   "source": [
    "##### Затем сгруппируем таблицу по менеджерам и посчитаем сумму денежных средств. Приведем полученный результата к DataFrame для удобочитаемого вида и отсортируем в нисходящем порядке:"
   ]
  },
  {
   "cell_type": "code",
   "execution_count": 376,
   "id": "962fa4bf-74f5-41f9-b613-356787377f30",
   "metadata": {},
   "outputs": [
    {
     "data": {
      "text/html": [
       "<div>\n",
       "<style scoped>\n",
       "    .dataframe tbody tr th:only-of-type {\n",
       "        vertical-align: middle;\n",
       "    }\n",
       "\n",
       "    .dataframe tbody tr th {\n",
       "        vertical-align: top;\n",
       "    }\n",
       "\n",
       "    .dataframe thead th {\n",
       "        text-align: right;\n",
       "    }\n",
       "</style>\n",
       "<table border=\"1\" class=\"dataframe\">\n",
       "  <thead>\n",
       "    <tr style=\"text-align: right;\">\n",
       "      <th></th>\n",
       "      <th>sum</th>\n",
       "    </tr>\n",
       "    <tr>\n",
       "      <th>sale</th>\n",
       "      <th></th>\n",
       "    </tr>\n",
       "  </thead>\n",
       "  <tbody>\n",
       "    <tr>\n",
       "      <th>Петрова</th>\n",
       "      <td>219240.12</td>\n",
       "    </tr>\n",
       "    <tr>\n",
       "      <th>Иванов</th>\n",
       "      <td>165314.80</td>\n",
       "    </tr>\n",
       "    <tr>\n",
       "      <th>Смирнов</th>\n",
       "      <td>155245.90</td>\n",
       "    </tr>\n",
       "    <tr>\n",
       "      <th>Андреев</th>\n",
       "      <td>124714.55</td>\n",
       "    </tr>\n",
       "    <tr>\n",
       "      <th>Кузнецова</th>\n",
       "      <td>60230.20</td>\n",
       "    </tr>\n",
       "    <tr>\n",
       "      <th>Васильев</th>\n",
       "      <td>55667.50</td>\n",
       "    </tr>\n",
       "    <tr>\n",
       "      <th>Филимонова</th>\n",
       "      <td>45763.30</td>\n",
       "    </tr>\n",
       "    <tr>\n",
       "      <th>Соколов</th>\n",
       "      <td>44234.60</td>\n",
       "    </tr>\n",
       "  </tbody>\n",
       "</table>\n",
       "</div>"
      ],
      "text/plain": [
       "                  sum\n",
       "sale                 \n",
       "Петрова     219240.12\n",
       "Иванов      165314.80\n",
       "Смирнов     155245.90\n",
       "Андреев     124714.55\n",
       "Кузнецова    60230.20\n",
       "Васильев     55667.50\n",
       "Филимонова   45763.30\n",
       "Соколов      44234.60"
      ]
     },
     "execution_count": 376,
     "metadata": {},
     "output_type": "execute_result"
    }
   ],
   "source": [
    "data_by_september.groupby('sale')['sum'].sum().to_frame().sort_values(by='sum', ascending=False)"
   ]
  },
  {
   "cell_type": "markdown",
   "id": "2125140b-53ca-4aa6-9bd7-2abc65e039b2",
   "metadata": {},
   "source": [
    "**Ответ:** В сентябре 2021 больше всего денег привлек менеджер Петрова"
   ]
  },
  {
   "cell_type": "markdown",
   "id": "df8e0438-332e-464d-9672-67f4bf9f6f54",
   "metadata": {},
   "source": [
    "#### 4) Какой тип сделок (новая/текущая) был преобладающим в октябре 2021?"
   ]
  },
  {
   "cell_type": "markdown",
   "id": "c140905a-1224-4334-8150-5665edc6f820",
   "metadata": {},
   "source": [
    "##### Как и до этого, отфильтруем таблицу:"
   ]
  },
  {
   "cell_type": "code",
   "execution_count": 378,
   "id": "8bdcb5ff-fc25-4921-b957-56c3b2751a4e",
   "metadata": {},
   "outputs": [],
   "source": [
    "data_by_october = data.loc[(data['receiving_date'] >= '2021-10-01') & (data['receiving_date'] <= '2021-10-31')]"
   ]
  },
  {
   "cell_type": "markdown",
   "id": "0ec5bd08-560c-4cee-85c0-663b3b4d3fe6",
   "metadata": {},
   "source": [
    "##### И посчитаем количество вхождений значений столбца статуса сделки:"
   ]
  },
  {
   "cell_type": "code",
   "execution_count": 381,
   "id": "5734d6ec-3c6b-468e-902a-34f7a0b27ff3",
   "metadata": {},
   "outputs": [
    {
     "data": {
      "text/html": [
       "<div>\n",
       "<style scoped>\n",
       "    .dataframe tbody tr th:only-of-type {\n",
       "        vertical-align: middle;\n",
       "    }\n",
       "\n",
       "    .dataframe tbody tr th {\n",
       "        vertical-align: top;\n",
       "    }\n",
       "\n",
       "    .dataframe thead th {\n",
       "        text-align: right;\n",
       "    }\n",
       "</style>\n",
       "<table border=\"1\" class=\"dataframe\">\n",
       "  <thead>\n",
       "    <tr style=\"text-align: right;\">\n",
       "      <th></th>\n",
       "      <th>count</th>\n",
       "    </tr>\n",
       "    <tr>\n",
       "      <th>new/current</th>\n",
       "      <th></th>\n",
       "    </tr>\n",
       "  </thead>\n",
       "  <tbody>\n",
       "    <tr>\n",
       "      <th>текущая</th>\n",
       "      <td>105</td>\n",
       "    </tr>\n",
       "    <tr>\n",
       "      <th>новая</th>\n",
       "      <td>17</td>\n",
       "    </tr>\n",
       "  </tbody>\n",
       "</table>\n",
       "</div>"
      ],
      "text/plain": [
       "             count\n",
       "new/current       \n",
       "текущая        105\n",
       "новая           17"
      ]
     },
     "execution_count": 381,
     "metadata": {},
     "output_type": "execute_result"
    }
   ],
   "source": [
    "data_by_october['new/current'].value_counts().to_frame()"
   ]
  },
  {
   "cell_type": "markdown",
   "id": "6a53756c-0262-4a90-8fc3-a843fe18c9d2",
   "metadata": {},
   "source": [
    "##### Ответ: В октябре 2021 текущая сделка была преобладающей"
   ]
  },
  {
   "cell_type": "markdown",
   "id": "bc2ee61f-9ff8-48a7-95a2-a49f180088af",
   "metadata": {},
   "source": [
    "#### 5) Сколько оригиналов договора по майским сделкам было получено в июне 2021?"
   ]
  },
  {
   "cell_type": "code",
   "execution_count": 385,
   "id": "3932ede2-a383-4139-9a53-1135d61ed927",
   "metadata": {},
   "outputs": [],
   "source": [
    "data_by_june = data[(data['receiving_date'] >= '2021-06-01') & (data['receiving_date'] <= '2021-06-30')]"
   ]
  },
  {
   "cell_type": "code",
   "execution_count": 387,
   "id": "3ed38f5c-120e-41ac-bd18-e3d5503e7333",
   "metadata": {},
   "outputs": [
    {
     "data": {
      "text/html": [
       "<div>\n",
       "<style scoped>\n",
       "    .dataframe tbody tr th:only-of-type {\n",
       "        vertical-align: middle;\n",
       "    }\n",
       "\n",
       "    .dataframe tbody tr th {\n",
       "        vertical-align: top;\n",
       "    }\n",
       "\n",
       "    .dataframe thead th {\n",
       "        text-align: right;\n",
       "    }\n",
       "</style>\n",
       "<table border=\"1\" class=\"dataframe\">\n",
       "  <thead>\n",
       "    <tr style=\"text-align: right;\">\n",
       "      <th></th>\n",
       "      <th>client_id</th>\n",
       "      <th>sum</th>\n",
       "      <th>status</th>\n",
       "      <th>sale</th>\n",
       "      <th>new/current</th>\n",
       "      <th>document</th>\n",
       "      <th>receiving_date</th>\n",
       "    </tr>\n",
       "  </thead>\n",
       "  <tbody>\n",
       "    <tr>\n",
       "      <th>3</th>\n",
       "      <td>15</td>\n",
       "      <td>13991.7</td>\n",
       "      <td>ОПЛАЧЕНО</td>\n",
       "      <td>Иванов</td>\n",
       "      <td>текущая</td>\n",
       "      <td>оригинал</td>\n",
       "      <td>2021-06-08</td>\n",
       "    </tr>\n",
       "    <tr>\n",
       "      <th>4</th>\n",
       "      <td>16</td>\n",
       "      <td>719.7</td>\n",
       "      <td>ОПЛАЧЕНО</td>\n",
       "      <td>Иванов</td>\n",
       "      <td>текущая</td>\n",
       "      <td>оригинал</td>\n",
       "      <td>2021-06-08</td>\n",
       "    </tr>\n",
       "    <tr>\n",
       "      <th>8</th>\n",
       "      <td>23</td>\n",
       "      <td>8511.7</td>\n",
       "      <td>ОПЛАЧЕНО</td>\n",
       "      <td>Андреев</td>\n",
       "      <td>текущая</td>\n",
       "      <td>оригинал</td>\n",
       "      <td>2021-06-08</td>\n",
       "    </tr>\n",
       "    <tr>\n",
       "      <th>9</th>\n",
       "      <td>24</td>\n",
       "      <td>16347.7</td>\n",
       "      <td>ОПЛАЧЕНО</td>\n",
       "      <td>Андреев</td>\n",
       "      <td>новая</td>\n",
       "      <td>оригинал</td>\n",
       "      <td>2021-06-23</td>\n",
       "    </tr>\n",
       "    <tr>\n",
       "      <th>10</th>\n",
       "      <td>28</td>\n",
       "      <td>10537.7</td>\n",
       "      <td>ОПЛАЧЕНО</td>\n",
       "      <td>Андреев</td>\n",
       "      <td>текущая</td>\n",
       "      <td>оригинал</td>\n",
       "      <td>2021-06-16</td>\n",
       "    </tr>\n",
       "    <tr>\n",
       "      <th>...</th>\n",
       "      <td>...</td>\n",
       "      <td>...</td>\n",
       "      <td>...</td>\n",
       "      <td>...</td>\n",
       "      <td>...</td>\n",
       "      <td>...</td>\n",
       "      <td>...</td>\n",
       "    </tr>\n",
       "    <tr>\n",
       "      <th>120</th>\n",
       "      <td>266</td>\n",
       "      <td>3363.7</td>\n",
       "      <td>ОПЛАЧЕНО</td>\n",
       "      <td>Петрова</td>\n",
       "      <td>текущая</td>\n",
       "      <td>оригинал</td>\n",
       "      <td>2021-06-23</td>\n",
       "    </tr>\n",
       "    <tr>\n",
       "      <th>121</th>\n",
       "      <td>270</td>\n",
       "      <td>5288.7</td>\n",
       "      <td>ОПЛАЧЕНО</td>\n",
       "      <td>Васильев</td>\n",
       "      <td>текущая</td>\n",
       "      <td>оригинал</td>\n",
       "      <td>2021-06-07</td>\n",
       "    </tr>\n",
       "    <tr>\n",
       "      <th>122</th>\n",
       "      <td>273</td>\n",
       "      <td>10133.7</td>\n",
       "      <td>ОПЛАЧЕНО</td>\n",
       "      <td>Петрова</td>\n",
       "      <td>текущая</td>\n",
       "      <td>оригинал</td>\n",
       "      <td>2021-06-01</td>\n",
       "    </tr>\n",
       "    <tr>\n",
       "      <th>123</th>\n",
       "      <td>274</td>\n",
       "      <td>26033.7</td>\n",
       "      <td>ОПЛАЧЕНО</td>\n",
       "      <td>Петрова</td>\n",
       "      <td>текущая</td>\n",
       "      <td>оригинал</td>\n",
       "      <td>2021-06-22</td>\n",
       "    </tr>\n",
       "    <tr>\n",
       "      <th>128</th>\n",
       "      <td>287</td>\n",
       "      <td>6368.7</td>\n",
       "      <td>ОПЛАЧЕНО</td>\n",
       "      <td>Филимонова</td>\n",
       "      <td>текущая</td>\n",
       "      <td>оригинал</td>\n",
       "      <td>2021-06-29</td>\n",
       "    </tr>\n",
       "  </tbody>\n",
       "</table>\n",
       "<p>77 rows × 7 columns</p>\n",
       "</div>"
      ],
      "text/plain": [
       "     client_id      sum    status        sale new/current  document  \\\n",
       "3           15  13991.7  ОПЛАЧЕНО      Иванов     текущая  оригинал   \n",
       "4           16    719.7  ОПЛАЧЕНО      Иванов     текущая  оригинал   \n",
       "8           23   8511.7  ОПЛАЧЕНО     Андреев     текущая  оригинал   \n",
       "9           24  16347.7  ОПЛАЧЕНО     Андреев       новая  оригинал   \n",
       "10          28  10537.7  ОПЛАЧЕНО     Андреев     текущая  оригинал   \n",
       "..         ...      ...       ...         ...         ...       ...   \n",
       "120        266   3363.7  ОПЛАЧЕНО     Петрова     текущая  оригинал   \n",
       "121        270   5288.7  ОПЛАЧЕНО    Васильев     текущая  оригинал   \n",
       "122        273  10133.7  ОПЛАЧЕНО     Петрова     текущая  оригинал   \n",
       "123        274  26033.7  ОПЛАЧЕНО     Петрова     текущая  оригинал   \n",
       "128        287   6368.7  ОПЛАЧЕНО  Филимонова     текущая  оригинал   \n",
       "\n",
       "    receiving_date  \n",
       "3       2021-06-08  \n",
       "4       2021-06-08  \n",
       "8       2021-06-08  \n",
       "9       2021-06-23  \n",
       "10      2021-06-16  \n",
       "..             ...  \n",
       "120     2021-06-23  \n",
       "121     2021-06-07  \n",
       "122     2021-06-01  \n",
       "123     2021-06-22  \n",
       "128     2021-06-29  \n",
       "\n",
       "[77 rows x 7 columns]"
      ]
     },
     "execution_count": 387,
     "metadata": {},
     "output_type": "execute_result"
    }
   ],
   "source": [
    "data_by_june"
   ]
  },
  {
   "cell_type": "code",
   "execution_count": 389,
   "id": "1e12fc1e-a539-4d16-b785-57485e1925a3",
   "metadata": {},
   "outputs": [
    {
     "data": {
      "text/plain": [
       "document\n",
       "оригинал    76\n",
       "Name: count, dtype: int64"
      ]
     },
     "execution_count": 389,
     "metadata": {},
     "output_type": "execute_result"
    }
   ],
   "source": [
    "data_by_june['document'].value_counts()"
   ]
  },
  {
   "cell_type": "markdown",
   "id": "85047cb2-cedb-406c-a248-16b6f631b0b2",
   "metadata": {},
   "source": [
    "##### Ответ: В июне 2021 было получено 76 оригиналов документов"
   ]
  },
  {
   "cell_type": "markdown",
   "id": "2927a5bf-3709-42f7-b5c4-ea687f21eb61",
   "metadata": {},
   "source": [
    "### Задание"
   ]
  },
  {
   "cell_type": "markdown",
   "id": "e134c9d5-33e9-4bb2-89e5-113225ce65c5",
   "metadata": {},
   "source": [
    "##### Из условия задачи следует, что первого числа каждого месяца менеджеры получают бонусы за предудущий период (календарный месяц) за те сделки, по которым были получены оригиналы документов за рассматриваемый период."
   ]
  },
  {
   "cell_type": "markdown",
   "id": "ebb00ab5-7b25-4045-ad9e-e01d91585943",
   "metadata": {},
   "source": [
    "##### В случае, если за рассматриваемый период не было получено оригиналов документов, то бонус переносится на следующий месяц и выплачивается по мере прихода оригиналов документов."
   ]
  },
  {
   "cell_type": "markdown",
   "id": "19a4c680-2a74-46d4-a79e-b8a26ce0c529",
   "metadata": {},
   "source": [
    "##### По условию задачи необходимо найти остаток каждого из менеджеров на 01.07.2021, то есть посчитать бонусы за июнь (прошлый период) по сделкам, по которым были получены оригиналы документов."
   ]
  },
  {
   "cell_type": "markdown",
   "id": "8adbecaf-b159-4ec7-92f4-824907bb652c",
   "metadata": {},
   "source": [
    "##### Сначала отфильтруем таблицу по необходимому временному периоду и документам:"
   ]
  },
  {
   "cell_type": "code",
   "execution_count": 448,
   "id": "15637892-7dbf-4e66-beca-d9ba0d2818dd",
   "metadata": {},
   "outputs": [],
   "source": [
    "#Чтобы случайно не изменить оригинальную таблицу (data), мы используем метод .copy()\n",
    "june_primary_document = data[(data['receiving_date'].dt.year == 2021) & (data['receiving_date'].dt.month == 6) & (data['document'] == 'оригинал')].copy()"
   ]
  },
  {
   "cell_type": "code",
   "execution_count": 450,
   "id": "34add2e7-87f4-40af-b94d-80f9b8cd0b45",
   "metadata": {},
   "outputs": [
    {
     "data": {
      "text/html": [
       "<div>\n",
       "<style scoped>\n",
       "    .dataframe tbody tr th:only-of-type {\n",
       "        vertical-align: middle;\n",
       "    }\n",
       "\n",
       "    .dataframe tbody tr th {\n",
       "        vertical-align: top;\n",
       "    }\n",
       "\n",
       "    .dataframe thead th {\n",
       "        text-align: right;\n",
       "    }\n",
       "</style>\n",
       "<table border=\"1\" class=\"dataframe\">\n",
       "  <thead>\n",
       "    <tr style=\"text-align: right;\">\n",
       "      <th></th>\n",
       "      <th>client_id</th>\n",
       "      <th>sum</th>\n",
       "      <th>status</th>\n",
       "      <th>sale</th>\n",
       "      <th>new/current</th>\n",
       "      <th>document</th>\n",
       "      <th>receiving_date</th>\n",
       "    </tr>\n",
       "  </thead>\n",
       "  <tbody>\n",
       "    <tr>\n",
       "      <th>3</th>\n",
       "      <td>15</td>\n",
       "      <td>13991.7</td>\n",
       "      <td>ОПЛАЧЕНО</td>\n",
       "      <td>Иванов</td>\n",
       "      <td>текущая</td>\n",
       "      <td>оригинал</td>\n",
       "      <td>2021-06-08</td>\n",
       "    </tr>\n",
       "    <tr>\n",
       "      <th>4</th>\n",
       "      <td>16</td>\n",
       "      <td>719.7</td>\n",
       "      <td>ОПЛАЧЕНО</td>\n",
       "      <td>Иванов</td>\n",
       "      <td>текущая</td>\n",
       "      <td>оригинал</td>\n",
       "      <td>2021-06-08</td>\n",
       "    </tr>\n",
       "    <tr>\n",
       "      <th>8</th>\n",
       "      <td>23</td>\n",
       "      <td>8511.7</td>\n",
       "      <td>ОПЛАЧЕНО</td>\n",
       "      <td>Андреев</td>\n",
       "      <td>текущая</td>\n",
       "      <td>оригинал</td>\n",
       "      <td>2021-06-08</td>\n",
       "    </tr>\n",
       "    <tr>\n",
       "      <th>9</th>\n",
       "      <td>24</td>\n",
       "      <td>16347.7</td>\n",
       "      <td>ОПЛАЧЕНО</td>\n",
       "      <td>Андреев</td>\n",
       "      <td>новая</td>\n",
       "      <td>оригинал</td>\n",
       "      <td>2021-06-23</td>\n",
       "    </tr>\n",
       "    <tr>\n",
       "      <th>10</th>\n",
       "      <td>28</td>\n",
       "      <td>10537.7</td>\n",
       "      <td>ОПЛАЧЕНО</td>\n",
       "      <td>Андреев</td>\n",
       "      <td>текущая</td>\n",
       "      <td>оригинал</td>\n",
       "      <td>2021-06-16</td>\n",
       "    </tr>\n",
       "    <tr>\n",
       "      <th>...</th>\n",
       "      <td>...</td>\n",
       "      <td>...</td>\n",
       "      <td>...</td>\n",
       "      <td>...</td>\n",
       "      <td>...</td>\n",
       "      <td>...</td>\n",
       "      <td>...</td>\n",
       "    </tr>\n",
       "    <tr>\n",
       "      <th>120</th>\n",
       "      <td>266</td>\n",
       "      <td>3363.7</td>\n",
       "      <td>ОПЛАЧЕНО</td>\n",
       "      <td>Петрова</td>\n",
       "      <td>текущая</td>\n",
       "      <td>оригинал</td>\n",
       "      <td>2021-06-23</td>\n",
       "    </tr>\n",
       "    <tr>\n",
       "      <th>121</th>\n",
       "      <td>270</td>\n",
       "      <td>5288.7</td>\n",
       "      <td>ОПЛАЧЕНО</td>\n",
       "      <td>Васильев</td>\n",
       "      <td>текущая</td>\n",
       "      <td>оригинал</td>\n",
       "      <td>2021-06-07</td>\n",
       "    </tr>\n",
       "    <tr>\n",
       "      <th>122</th>\n",
       "      <td>273</td>\n",
       "      <td>10133.7</td>\n",
       "      <td>ОПЛАЧЕНО</td>\n",
       "      <td>Петрова</td>\n",
       "      <td>текущая</td>\n",
       "      <td>оригинал</td>\n",
       "      <td>2021-06-01</td>\n",
       "    </tr>\n",
       "    <tr>\n",
       "      <th>123</th>\n",
       "      <td>274</td>\n",
       "      <td>26033.7</td>\n",
       "      <td>ОПЛАЧЕНО</td>\n",
       "      <td>Петрова</td>\n",
       "      <td>текущая</td>\n",
       "      <td>оригинал</td>\n",
       "      <td>2021-06-22</td>\n",
       "    </tr>\n",
       "    <tr>\n",
       "      <th>128</th>\n",
       "      <td>287</td>\n",
       "      <td>6368.7</td>\n",
       "      <td>ОПЛАЧЕНО</td>\n",
       "      <td>Филимонова</td>\n",
       "      <td>текущая</td>\n",
       "      <td>оригинал</td>\n",
       "      <td>2021-06-29</td>\n",
       "    </tr>\n",
       "  </tbody>\n",
       "</table>\n",
       "<p>76 rows × 7 columns</p>\n",
       "</div>"
      ],
      "text/plain": [
       "     client_id      sum    status        sale new/current  document  \\\n",
       "3           15  13991.7  ОПЛАЧЕНО      Иванов     текущая  оригинал   \n",
       "4           16    719.7  ОПЛАЧЕНО      Иванов     текущая  оригинал   \n",
       "8           23   8511.7  ОПЛАЧЕНО     Андреев     текущая  оригинал   \n",
       "9           24  16347.7  ОПЛАЧЕНО     Андреев       новая  оригинал   \n",
       "10          28  10537.7  ОПЛАЧЕНО     Андреев     текущая  оригинал   \n",
       "..         ...      ...       ...         ...         ...       ...   \n",
       "120        266   3363.7  ОПЛАЧЕНО     Петрова     текущая  оригинал   \n",
       "121        270   5288.7  ОПЛАЧЕНО    Васильев     текущая  оригинал   \n",
       "122        273  10133.7  ОПЛАЧЕНО     Петрова     текущая  оригинал   \n",
       "123        274  26033.7  ОПЛАЧЕНО     Петрова     текущая  оригинал   \n",
       "128        287   6368.7  ОПЛАЧЕНО  Филимонова     текущая  оригинал   \n",
       "\n",
       "    receiving_date  \n",
       "3       2021-06-08  \n",
       "4       2021-06-08  \n",
       "8       2021-06-08  \n",
       "9       2021-06-23  \n",
       "10      2021-06-16  \n",
       "..             ...  \n",
       "120     2021-06-23  \n",
       "121     2021-06-07  \n",
       "122     2021-06-01  \n",
       "123     2021-06-22  \n",
       "128     2021-06-29  \n",
       "\n",
       "[76 rows x 7 columns]"
      ]
     },
     "execution_count": 450,
     "metadata": {},
     "output_type": "execute_result"
    }
   ],
   "source": [
    "june_primary_document"
   ]
  },
  {
   "cell_type": "markdown",
   "id": "da2cf90d-325d-4537-81eb-bda739e11f16",
   "metadata": {},
   "source": [
    "##### Напишем функцию для подсчета бонуса согласно условию:"
   ]
  },
  {
   "cell_type": "code",
   "execution_count": 453,
   "id": "c7ed7e02-eae3-4722-bc6a-c4385eb9cc81",
   "metadata": {},
   "outputs": [],
   "source": [
    "def calulate_bonus(row):\n",
    "    if row['new/current'] == 'новая':\n",
    "        if row['status'] == 'ОПЛАЧЕНО':\n",
    "            return row['sum'] * 0.07\n",
    "    elif row['status'] != 'ПРОСРОЧЕНО':\n",
    "        if row['sum'] > 10_000:\n",
    "            return row['sum'] * 0.05\n",
    "        else:\n",
    "            return row['sum'] * 0.03"
   ]
  },
  {
   "cell_type": "markdown",
   "id": "fc555d79-7663-4fba-a3ef-90ccc9b278a4",
   "metadata": {},
   "source": [
    "##### В новый столбец запишем бонус менеджера по каждой конкретной сделки:"
   ]
  },
  {
   "cell_type": "code",
   "execution_count": 456,
   "id": "5f5718b0-11f9-49ba-927c-4aa2a6ee41b6",
   "metadata": {},
   "outputs": [],
   "source": [
    "june_primary_document['bonus'] = june_primary_document.apply(calulate_bonus, axis=1)"
   ]
  },
  {
   "cell_type": "code",
   "execution_count": 458,
   "id": "6b01350e-342f-483d-9864-9e997d9489f9",
   "metadata": {},
   "outputs": [
    {
     "data": {
      "text/html": [
       "<div>\n",
       "<style scoped>\n",
       "    .dataframe tbody tr th:only-of-type {\n",
       "        vertical-align: middle;\n",
       "    }\n",
       "\n",
       "    .dataframe tbody tr th {\n",
       "        vertical-align: top;\n",
       "    }\n",
       "\n",
       "    .dataframe thead th {\n",
       "        text-align: right;\n",
       "    }\n",
       "</style>\n",
       "<table border=\"1\" class=\"dataframe\">\n",
       "  <thead>\n",
       "    <tr style=\"text-align: right;\">\n",
       "      <th></th>\n",
       "      <th>client_id</th>\n",
       "      <th>sum</th>\n",
       "      <th>status</th>\n",
       "      <th>sale</th>\n",
       "      <th>new/current</th>\n",
       "      <th>document</th>\n",
       "      <th>receiving_date</th>\n",
       "      <th>bonus</th>\n",
       "    </tr>\n",
       "  </thead>\n",
       "  <tbody>\n",
       "    <tr>\n",
       "      <th>3</th>\n",
       "      <td>15</td>\n",
       "      <td>13991.7</td>\n",
       "      <td>ОПЛАЧЕНО</td>\n",
       "      <td>Иванов</td>\n",
       "      <td>текущая</td>\n",
       "      <td>оригинал</td>\n",
       "      <td>2021-06-08</td>\n",
       "      <td>699.585</td>\n",
       "    </tr>\n",
       "    <tr>\n",
       "      <th>4</th>\n",
       "      <td>16</td>\n",
       "      <td>719.7</td>\n",
       "      <td>ОПЛАЧЕНО</td>\n",
       "      <td>Иванов</td>\n",
       "      <td>текущая</td>\n",
       "      <td>оригинал</td>\n",
       "      <td>2021-06-08</td>\n",
       "      <td>21.591</td>\n",
       "    </tr>\n",
       "    <tr>\n",
       "      <th>8</th>\n",
       "      <td>23</td>\n",
       "      <td>8511.7</td>\n",
       "      <td>ОПЛАЧЕНО</td>\n",
       "      <td>Андреев</td>\n",
       "      <td>текущая</td>\n",
       "      <td>оригинал</td>\n",
       "      <td>2021-06-08</td>\n",
       "      <td>255.351</td>\n",
       "    </tr>\n",
       "    <tr>\n",
       "      <th>9</th>\n",
       "      <td>24</td>\n",
       "      <td>16347.7</td>\n",
       "      <td>ОПЛАЧЕНО</td>\n",
       "      <td>Андреев</td>\n",
       "      <td>новая</td>\n",
       "      <td>оригинал</td>\n",
       "      <td>2021-06-23</td>\n",
       "      <td>1144.339</td>\n",
       "    </tr>\n",
       "    <tr>\n",
       "      <th>10</th>\n",
       "      <td>28</td>\n",
       "      <td>10537.7</td>\n",
       "      <td>ОПЛАЧЕНО</td>\n",
       "      <td>Андреев</td>\n",
       "      <td>текущая</td>\n",
       "      <td>оригинал</td>\n",
       "      <td>2021-06-16</td>\n",
       "      <td>526.885</td>\n",
       "    </tr>\n",
       "    <tr>\n",
       "      <th>...</th>\n",
       "      <td>...</td>\n",
       "      <td>...</td>\n",
       "      <td>...</td>\n",
       "      <td>...</td>\n",
       "      <td>...</td>\n",
       "      <td>...</td>\n",
       "      <td>...</td>\n",
       "      <td>...</td>\n",
       "    </tr>\n",
       "    <tr>\n",
       "      <th>120</th>\n",
       "      <td>266</td>\n",
       "      <td>3363.7</td>\n",
       "      <td>ОПЛАЧЕНО</td>\n",
       "      <td>Петрова</td>\n",
       "      <td>текущая</td>\n",
       "      <td>оригинал</td>\n",
       "      <td>2021-06-23</td>\n",
       "      <td>100.911</td>\n",
       "    </tr>\n",
       "    <tr>\n",
       "      <th>121</th>\n",
       "      <td>270</td>\n",
       "      <td>5288.7</td>\n",
       "      <td>ОПЛАЧЕНО</td>\n",
       "      <td>Васильев</td>\n",
       "      <td>текущая</td>\n",
       "      <td>оригинал</td>\n",
       "      <td>2021-06-07</td>\n",
       "      <td>158.661</td>\n",
       "    </tr>\n",
       "    <tr>\n",
       "      <th>122</th>\n",
       "      <td>273</td>\n",
       "      <td>10133.7</td>\n",
       "      <td>ОПЛАЧЕНО</td>\n",
       "      <td>Петрова</td>\n",
       "      <td>текущая</td>\n",
       "      <td>оригинал</td>\n",
       "      <td>2021-06-01</td>\n",
       "      <td>506.685</td>\n",
       "    </tr>\n",
       "    <tr>\n",
       "      <th>123</th>\n",
       "      <td>274</td>\n",
       "      <td>26033.7</td>\n",
       "      <td>ОПЛАЧЕНО</td>\n",
       "      <td>Петрова</td>\n",
       "      <td>текущая</td>\n",
       "      <td>оригинал</td>\n",
       "      <td>2021-06-22</td>\n",
       "      <td>1301.685</td>\n",
       "    </tr>\n",
       "    <tr>\n",
       "      <th>128</th>\n",
       "      <td>287</td>\n",
       "      <td>6368.7</td>\n",
       "      <td>ОПЛАЧЕНО</td>\n",
       "      <td>Филимонова</td>\n",
       "      <td>текущая</td>\n",
       "      <td>оригинал</td>\n",
       "      <td>2021-06-29</td>\n",
       "      <td>191.061</td>\n",
       "    </tr>\n",
       "  </tbody>\n",
       "</table>\n",
       "<p>76 rows × 8 columns</p>\n",
       "</div>"
      ],
      "text/plain": [
       "     client_id      sum    status        sale new/current  document  \\\n",
       "3           15  13991.7  ОПЛАЧЕНО      Иванов     текущая  оригинал   \n",
       "4           16    719.7  ОПЛАЧЕНО      Иванов     текущая  оригинал   \n",
       "8           23   8511.7  ОПЛАЧЕНО     Андреев     текущая  оригинал   \n",
       "9           24  16347.7  ОПЛАЧЕНО     Андреев       новая  оригинал   \n",
       "10          28  10537.7  ОПЛАЧЕНО     Андреев     текущая  оригинал   \n",
       "..         ...      ...       ...         ...         ...       ...   \n",
       "120        266   3363.7  ОПЛАЧЕНО     Петрова     текущая  оригинал   \n",
       "121        270   5288.7  ОПЛАЧЕНО    Васильев     текущая  оригинал   \n",
       "122        273  10133.7  ОПЛАЧЕНО     Петрова     текущая  оригинал   \n",
       "123        274  26033.7  ОПЛАЧЕНО     Петрова     текущая  оригинал   \n",
       "128        287   6368.7  ОПЛАЧЕНО  Филимонова     текущая  оригинал   \n",
       "\n",
       "    receiving_date     bonus  \n",
       "3       2021-06-08   699.585  \n",
       "4       2021-06-08    21.591  \n",
       "8       2021-06-08   255.351  \n",
       "9       2021-06-23  1144.339  \n",
       "10      2021-06-16   526.885  \n",
       "..             ...       ...  \n",
       "120     2021-06-23   100.911  \n",
       "121     2021-06-07   158.661  \n",
       "122     2021-06-01   506.685  \n",
       "123     2021-06-22  1301.685  \n",
       "128     2021-06-29   191.061  \n",
       "\n",
       "[76 rows x 8 columns]"
      ]
     },
     "execution_count": 458,
     "metadata": {},
     "output_type": "execute_result"
    }
   ],
   "source": [
    "june_primary_document"
   ]
  },
  {
   "cell_type": "markdown",
   "id": "59733079-4b05-46dc-a368-f59cf268ca13",
   "metadata": {},
   "source": [
    "##### Выполним группировку по менеджерам и посчитаем сумму их бонусов:"
   ]
  },
  {
   "cell_type": "code",
   "execution_count": 461,
   "id": "9d9b1fcb-7f0e-4ef4-aae5-81b52e1f5e0c",
   "metadata": {},
   "outputs": [
    {
     "data": {
      "text/html": [
       "<div>\n",
       "<style scoped>\n",
       "    .dataframe tbody tr th:only-of-type {\n",
       "        vertical-align: middle;\n",
       "    }\n",
       "\n",
       "    .dataframe tbody tr th {\n",
       "        vertical-align: top;\n",
       "    }\n",
       "\n",
       "    .dataframe thead th {\n",
       "        text-align: right;\n",
       "    }\n",
       "</style>\n",
       "<table border=\"1\" class=\"dataframe\">\n",
       "  <thead>\n",
       "    <tr style=\"text-align: right;\">\n",
       "      <th></th>\n",
       "      <th>sale</th>\n",
       "      <th>bonus</th>\n",
       "    </tr>\n",
       "  </thead>\n",
       "  <tbody>\n",
       "    <tr>\n",
       "      <th>0</th>\n",
       "      <td>Петрова</td>\n",
       "      <td>7028.8020</td>\n",
       "    </tr>\n",
       "    <tr>\n",
       "      <th>1</th>\n",
       "      <td>Смирнов</td>\n",
       "      <td>4078.7240</td>\n",
       "    </tr>\n",
       "    <tr>\n",
       "      <th>2</th>\n",
       "      <td>Андреев</td>\n",
       "      <td>2962.1717</td>\n",
       "    </tr>\n",
       "    <tr>\n",
       "      <th>3</th>\n",
       "      <td>Кузнецова</td>\n",
       "      <td>2604.6716</td>\n",
       "    </tr>\n",
       "    <tr>\n",
       "      <th>4</th>\n",
       "      <td>Иванов</td>\n",
       "      <td>2503.8390</td>\n",
       "    </tr>\n",
       "    <tr>\n",
       "      <th>5</th>\n",
       "      <td>Селиванов</td>\n",
       "      <td>353.3220</td>\n",
       "    </tr>\n",
       "    <tr>\n",
       "      <th>6</th>\n",
       "      <td>Васильев</td>\n",
       "      <td>339.2310</td>\n",
       "    </tr>\n",
       "    <tr>\n",
       "      <th>7</th>\n",
       "      <td>Филимонова</td>\n",
       "      <td>306.0720</td>\n",
       "    </tr>\n",
       "  </tbody>\n",
       "</table>\n",
       "</div>"
      ],
      "text/plain": [
       "         sale      bonus\n",
       "0     Петрова  7028.8020\n",
       "1     Смирнов  4078.7240\n",
       "2     Андреев  2962.1717\n",
       "3   Кузнецова  2604.6716\n",
       "4      Иванов  2503.8390\n",
       "5   Селиванов   353.3220\n",
       "6    Васильев   339.2310\n",
       "7  Филимонова   306.0720"
      ]
     },
     "execution_count": 461,
     "metadata": {},
     "output_type": "execute_result"
    }
   ],
   "source": [
    "june_primary_document.groupby('sale')['bonus'].sum().sort_values(ascending=False).to_frame().reset_index()"
   ]
  }
 ],
 "metadata": {
  "kernelspec": {
   "display_name": "Python 3 (ipykernel)",
   "language": "python",
   "name": "python3"
  },
  "language_info": {
   "codemirror_mode": {
    "name": "ipython",
    "version": 3
   },
   "file_extension": ".py",
   "mimetype": "text/x-python",
   "name": "python",
   "nbconvert_exporter": "python",
   "pygments_lexer": "ipython3",
   "version": "3.12.4"
  }
 },
 "nbformat": 4,
 "nbformat_minor": 5
}
